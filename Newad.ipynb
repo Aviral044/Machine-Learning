{
 "metadata": {
  "language_info": {
   "codemirror_mode": {
    "name": "ipython",
    "version": 3
   },
   "file_extension": ".py",
   "mimetype": "text/x-python",
   "name": "python",
   "nbconvert_exporter": "python",
   "pygments_lexer": "ipython3",
   "version": "3.8.6-final"
  },
  "orig_nbformat": 2,
  "kernelspec": {
   "name": "python3",
   "display_name": "Python 3.8.6 64-bit",
   "metadata": {
    "interpreter": {
     "hash": "9e9631c65a05024f468975cf5ef37123a52a552a8fe17ae2c872e05b2ff7c2b2"
    }
   }
  }
 },
 "nbformat": 4,
 "nbformat_minor": 2,
 "cells": [
  {
   "cell_type": "code",
   "execution_count": 161,
   "metadata": {},
   "outputs": [],
   "source": [
    "import pandas as pd\n",
    "import numpy as np\n",
    "import tensorflow as tf\n",
    "from tensorflow.keras.datasets import mnist\n",
    "from matplotlib import pyplot as plt\n",
    "from tensorflow.keras import layers\n",
    "from sklearn.preprocessing import StandardScaler\n",
    "from sklearn.metrics import plot_confusion_matrix\n",
    "from sklearn.metrics import confusion_matrix\n",
    "from sklearn.preprocessing import LabelEncoder\n",
    "from sklearn.model_selection import train_test_split"
   ]
  },
  {
   "cell_type": "code",
   "execution_count": 144,
   "metadata": {},
   "outputs": [
    {
     "output_type": "execute_result",
     "data": {
      "text/plain": [
       "    Loan_ID Gender Married  Dependents     Education Self_Employed  \\\n",
       "0  LP001002   Male      No         0.0      Graduate            No   \n",
       "1  LP001003   Male     Yes         1.0      Graduate            No   \n",
       "2  LP001005   Male     Yes         0.0      Graduate           Yes   \n",
       "3  LP001006   Male     Yes         0.0  Not Graduate            No   \n",
       "4  LP001008   Male      No         0.0      Graduate            No   \n",
       "\n",
       "   ApplicantIncome  CoapplicantIncome  LoanAmount  Loan_Amount_Term  \\\n",
       "0             5849                0.0         NaN             360.0   \n",
       "1             4583             1508.0       128.0             360.0   \n",
       "2             3000                0.0        66.0             360.0   \n",
       "3             2583             2358.0       120.0             360.0   \n",
       "4             6000                0.0       141.0             360.0   \n",
       "\n",
       "   Credit_History Property_Area Loan_Status  \n",
       "0             1.0         Urban           Y  \n",
       "1             1.0         Rural           N  \n",
       "2             1.0         Urban           Y  \n",
       "3             1.0         Urban           Y  \n",
       "4             1.0         Urban           Y  "
      ],
      "text/html": "<div>\n<style scoped>\n    .dataframe tbody tr th:only-of-type {\n        vertical-align: middle;\n    }\n\n    .dataframe tbody tr th {\n        vertical-align: top;\n    }\n\n    .dataframe thead th {\n        text-align: right;\n    }\n</style>\n<table border=\"1\" class=\"dataframe\">\n  <thead>\n    <tr style=\"text-align: right;\">\n      <th></th>\n      <th>Loan_ID</th>\n      <th>Gender</th>\n      <th>Married</th>\n      <th>Dependents</th>\n      <th>Education</th>\n      <th>Self_Employed</th>\n      <th>ApplicantIncome</th>\n      <th>CoapplicantIncome</th>\n      <th>LoanAmount</th>\n      <th>Loan_Amount_Term</th>\n      <th>Credit_History</th>\n      <th>Property_Area</th>\n      <th>Loan_Status</th>\n    </tr>\n  </thead>\n  <tbody>\n    <tr>\n      <th>0</th>\n      <td>LP001002</td>\n      <td>Male</td>\n      <td>No</td>\n      <td>0.0</td>\n      <td>Graduate</td>\n      <td>No</td>\n      <td>5849</td>\n      <td>0.0</td>\n      <td>NaN</td>\n      <td>360.0</td>\n      <td>1.0</td>\n      <td>Urban</td>\n      <td>Y</td>\n    </tr>\n    <tr>\n      <th>1</th>\n      <td>LP001003</td>\n      <td>Male</td>\n      <td>Yes</td>\n      <td>1.0</td>\n      <td>Graduate</td>\n      <td>No</td>\n      <td>4583</td>\n      <td>1508.0</td>\n      <td>128.0</td>\n      <td>360.0</td>\n      <td>1.0</td>\n      <td>Rural</td>\n      <td>N</td>\n    </tr>\n    <tr>\n      <th>2</th>\n      <td>LP001005</td>\n      <td>Male</td>\n      <td>Yes</td>\n      <td>0.0</td>\n      <td>Graduate</td>\n      <td>Yes</td>\n      <td>3000</td>\n      <td>0.0</td>\n      <td>66.0</td>\n      <td>360.0</td>\n      <td>1.0</td>\n      <td>Urban</td>\n      <td>Y</td>\n    </tr>\n    <tr>\n      <th>3</th>\n      <td>LP001006</td>\n      <td>Male</td>\n      <td>Yes</td>\n      <td>0.0</td>\n      <td>Not Graduate</td>\n      <td>No</td>\n      <td>2583</td>\n      <td>2358.0</td>\n      <td>120.0</td>\n      <td>360.0</td>\n      <td>1.0</td>\n      <td>Urban</td>\n      <td>Y</td>\n    </tr>\n    <tr>\n      <th>4</th>\n      <td>LP001008</td>\n      <td>Male</td>\n      <td>No</td>\n      <td>0.0</td>\n      <td>Graduate</td>\n      <td>No</td>\n      <td>6000</td>\n      <td>0.0</td>\n      <td>141.0</td>\n      <td>360.0</td>\n      <td>1.0</td>\n      <td>Urban</td>\n      <td>Y</td>\n    </tr>\n  </tbody>\n</table>\n</div>"
     },
     "metadata": {},
     "execution_count": 144
    }
   ],
   "source": [
    "DF=pd.read_csv(r'C:\\Users\\avira\\Desktop\\Random Inspirations\\CreditRisk.csv')\n",
    "DF.head()"
   ]
  },
  {
   "cell_type": "code",
   "execution_count": 145,
   "metadata": {},
   "outputs": [],
   "source": [
    "DF.drop(columns=['Loan_ID'],inplace=True)"
   ]
  },
  {
   "cell_type": "code",
   "execution_count": 146,
   "metadata": {},
   "outputs": [
    {
     "output_type": "execute_result",
     "data": {
      "text/plain": [
       "  Gender Married  Dependents     Education Self_Employed  ApplicantIncome  \\\n",
       "0   Male      No         0.0      Graduate            No             5849   \n",
       "1   Male     Yes         1.0      Graduate            No             4583   \n",
       "2   Male     Yes         0.0      Graduate           Yes             3000   \n",
       "3   Male     Yes         0.0  Not Graduate            No             2583   \n",
       "4   Male      No         0.0      Graduate            No             6000   \n",
       "\n",
       "   CoapplicantIncome  LoanAmount  Loan_Amount_Term  Credit_History  \\\n",
       "0                0.0         NaN             360.0             1.0   \n",
       "1             1508.0       128.0             360.0             1.0   \n",
       "2                0.0        66.0             360.0             1.0   \n",
       "3             2358.0       120.0             360.0             1.0   \n",
       "4                0.0       141.0             360.0             1.0   \n",
       "\n",
       "  Property_Area Loan_Status  \n",
       "0         Urban           Y  \n",
       "1         Rural           N  \n",
       "2         Urban           Y  \n",
       "3         Urban           Y  \n",
       "4         Urban           Y  "
      ],
      "text/html": "<div>\n<style scoped>\n    .dataframe tbody tr th:only-of-type {\n        vertical-align: middle;\n    }\n\n    .dataframe tbody tr th {\n        vertical-align: top;\n    }\n\n    .dataframe thead th {\n        text-align: right;\n    }\n</style>\n<table border=\"1\" class=\"dataframe\">\n  <thead>\n    <tr style=\"text-align: right;\">\n      <th></th>\n      <th>Gender</th>\n      <th>Married</th>\n      <th>Dependents</th>\n      <th>Education</th>\n      <th>Self_Employed</th>\n      <th>ApplicantIncome</th>\n      <th>CoapplicantIncome</th>\n      <th>LoanAmount</th>\n      <th>Loan_Amount_Term</th>\n      <th>Credit_History</th>\n      <th>Property_Area</th>\n      <th>Loan_Status</th>\n    </tr>\n  </thead>\n  <tbody>\n    <tr>\n      <th>0</th>\n      <td>Male</td>\n      <td>No</td>\n      <td>0.0</td>\n      <td>Graduate</td>\n      <td>No</td>\n      <td>5849</td>\n      <td>0.0</td>\n      <td>NaN</td>\n      <td>360.0</td>\n      <td>1.0</td>\n      <td>Urban</td>\n      <td>Y</td>\n    </tr>\n    <tr>\n      <th>1</th>\n      <td>Male</td>\n      <td>Yes</td>\n      <td>1.0</td>\n      <td>Graduate</td>\n      <td>No</td>\n      <td>4583</td>\n      <td>1508.0</td>\n      <td>128.0</td>\n      <td>360.0</td>\n      <td>1.0</td>\n      <td>Rural</td>\n      <td>N</td>\n    </tr>\n    <tr>\n      <th>2</th>\n      <td>Male</td>\n      <td>Yes</td>\n      <td>0.0</td>\n      <td>Graduate</td>\n      <td>Yes</td>\n      <td>3000</td>\n      <td>0.0</td>\n      <td>66.0</td>\n      <td>360.0</td>\n      <td>1.0</td>\n      <td>Urban</td>\n      <td>Y</td>\n    </tr>\n    <tr>\n      <th>3</th>\n      <td>Male</td>\n      <td>Yes</td>\n      <td>0.0</td>\n      <td>Not Graduate</td>\n      <td>No</td>\n      <td>2583</td>\n      <td>2358.0</td>\n      <td>120.0</td>\n      <td>360.0</td>\n      <td>1.0</td>\n      <td>Urban</td>\n      <td>Y</td>\n    </tr>\n    <tr>\n      <th>4</th>\n      <td>Male</td>\n      <td>No</td>\n      <td>0.0</td>\n      <td>Graduate</td>\n      <td>No</td>\n      <td>6000</td>\n      <td>0.0</td>\n      <td>141.0</td>\n      <td>360.0</td>\n      <td>1.0</td>\n      <td>Urban</td>\n      <td>Y</td>\n    </tr>\n  </tbody>\n</table>\n</div>"
     },
     "metadata": {},
     "execution_count": 146
    }
   ],
   "source": [
    "DF.head()"
   ]
  },
  {
   "cell_type": "code",
   "execution_count": 147,
   "metadata": {},
   "outputs": [
    {
     "output_type": "execute_result",
     "data": {
      "text/plain": [
       "Gender               24\n",
       "Married               3\n",
       "Dependents           25\n",
       "Education             0\n",
       "Self_Employed        55\n",
       "ApplicantIncome       0\n",
       "CoapplicantIncome     0\n",
       "LoanAmount           27\n",
       "Loan_Amount_Term     20\n",
       "Credit_History       79\n",
       "Property_Area         0\n",
       "Loan_Status           0\n",
       "dtype: int64"
      ]
     },
     "metadata": {},
     "execution_count": 147
    }
   ],
   "source": [
    "DF.isnull().sum()"
   ]
  },
  {
   "cell_type": "code",
   "execution_count": 148,
   "metadata": {},
   "outputs": [
    {
     "output_type": "execute_result",
     "data": {
      "text/plain": [
       "0      Male\n",
       "1      Male\n",
       "2      Male\n",
       "3      Male\n",
       "4      Male\n",
       "       ... \n",
       "976    Male\n",
       "977    Male\n",
       "978    Male\n",
       "979    Male\n",
       "980    Male\n",
       "Name: Gender, Length: 981, dtype: object"
      ]
     },
     "metadata": {},
     "execution_count": 148
    }
   ],
   "source": [
    "DF.Gender"
   ]
  },
  {
   "cell_type": "code",
   "execution_count": 149,
   "metadata": {},
   "outputs": [],
   "source": [
    "DF.Gender=DF.Gender.fillna('Male')\n",
    "DF.Married=DF.Married.fillna('Yes')\n",
    "DF.Dependents=DF.Dependents.fillna(0.0)\n",
    "DF.Self_Employed=DF.Self_Employed.fillna('No')\n",
    "DF.Loan_Amount_Term=DF.Loan_Amount_Term.fillna(DF.Loan_Amount_Term.median())\n",
    "DF.LoanAmount=DF.LoanAmount.fillna(DF.LoanAmount.median())\n",
    "DF.Credit_History=DF.Credit_History.fillna(1.0)"
   ]
  },
  {
   "cell_type": "code",
   "execution_count": 150,
   "metadata": {},
   "outputs": [
    {
     "output_type": "execute_result",
     "data": {
      "text/plain": [
       "Gender               0\n",
       "Married              0\n",
       "Dependents           0\n",
       "Education            0\n",
       "Self_Employed        0\n",
       "ApplicantIncome      0\n",
       "CoapplicantIncome    0\n",
       "LoanAmount           0\n",
       "Loan_Amount_Term     0\n",
       "Credit_History       0\n",
       "Property_Area        0\n",
       "Loan_Status          0\n",
       "dtype: int64"
      ]
     },
     "metadata": {},
     "execution_count": 150
    }
   ],
   "source": [
    "DF.isnull().sum()"
   ]
  },
  {
   "cell_type": "code",
   "execution_count": 151,
   "metadata": {},
   "outputs": [
    {
     "output_type": "execute_result",
     "data": {
      "text/plain": [
       "Yes    634\n",
       "No     347\n",
       "Name: Married, dtype: int64"
      ]
     },
     "metadata": {},
     "execution_count": 151
    }
   ],
   "source": [
    "DF['Married'].value_counts()"
   ]
  },
  {
   "cell_type": "code",
   "execution_count": 152,
   "metadata": {},
   "outputs": [
    {
     "output_type": "execute_result",
     "data": {
      "text/plain": [
       "0.0    570\n",
       "2.0    160\n",
       "1.0    160\n",
       "4.0     90\n",
       "3.0      1\n",
       "Name: Dependents, dtype: int64"
      ]
     },
     "metadata": {},
     "execution_count": 152
    }
   ],
   "source": [
    "DF['Dependents'].value_counts()"
   ]
  },
  {
   "cell_type": "code",
   "execution_count": 153,
   "metadata": {},
   "outputs": [
    {
     "output_type": "execute_result",
     "data": {
      "text/plain": [
       "No     862\n",
       "Yes    119\n",
       "Name: Self_Employed, dtype: int64"
      ]
     },
     "metadata": {},
     "execution_count": 153
    }
   ],
   "source": [
    "DF['Self_Employed'].value_counts()"
   ]
  },
  {
   "cell_type": "code",
   "execution_count": 154,
   "metadata": {},
   "outputs": [],
   "source": [
    "DF.Gender.replace({\"Male\" :1 , \"Female\":0} ,inplace = True)"
   ]
  },
  {
   "cell_type": "code",
   "execution_count": 155,
   "metadata": {},
   "outputs": [],
   "source": [
    "DF.Married.replace({\"No\" :0 , \"Yes\":1} ,inplace = True)"
   ]
  },
  {
   "cell_type": "code",
   "execution_count": 156,
   "metadata": {},
   "outputs": [],
   "source": [
    "lb=LabelEncoder()\n",
    "DF.Education=lb.fit_transform(DF.Education)\n",
    "DF.Self_Employed=lb.fit_transform(DF.Self_Employed)\n",
    "DF.Property_Area=lb.fit_transform(DF.Property_Area)\n",
    "DF.Loan_Status=lb.fit_transform(DF.Loan_Status)"
   ]
  },
  {
   "cell_type": "code",
   "execution_count": 157,
   "metadata": {},
   "outputs": [
    {
     "output_type": "execute_result",
     "data": {
      "text/plain": [
       "   Gender  Married  Dependents  Education  Self_Employed  ApplicantIncome  \\\n",
       "0       1        0         0.0          0              0             5849   \n",
       "1       1        1         1.0          0              0             4583   \n",
       "2       1        1         0.0          0              1             3000   \n",
       "3       1        1         0.0          1              0             2583   \n",
       "4       1        0         0.0          0              0             6000   \n",
       "\n",
       "   CoapplicantIncome  LoanAmount  Loan_Amount_Term  Credit_History  \\\n",
       "0                0.0       126.0             360.0             1.0   \n",
       "1             1508.0       128.0             360.0             1.0   \n",
       "2                0.0        66.0             360.0             1.0   \n",
       "3             2358.0       120.0             360.0             1.0   \n",
       "4                0.0       141.0             360.0             1.0   \n",
       "\n",
       "   Property_Area  Loan_Status  \n",
       "0              2            1  \n",
       "1              0            0  \n",
       "2              2            1  \n",
       "3              2            1  \n",
       "4              2            1  "
      ],
      "text/html": "<div>\n<style scoped>\n    .dataframe tbody tr th:only-of-type {\n        vertical-align: middle;\n    }\n\n    .dataframe tbody tr th {\n        vertical-align: top;\n    }\n\n    .dataframe thead th {\n        text-align: right;\n    }\n</style>\n<table border=\"1\" class=\"dataframe\">\n  <thead>\n    <tr style=\"text-align: right;\">\n      <th></th>\n      <th>Gender</th>\n      <th>Married</th>\n      <th>Dependents</th>\n      <th>Education</th>\n      <th>Self_Employed</th>\n      <th>ApplicantIncome</th>\n      <th>CoapplicantIncome</th>\n      <th>LoanAmount</th>\n      <th>Loan_Amount_Term</th>\n      <th>Credit_History</th>\n      <th>Property_Area</th>\n      <th>Loan_Status</th>\n    </tr>\n  </thead>\n  <tbody>\n    <tr>\n      <th>0</th>\n      <td>1</td>\n      <td>0</td>\n      <td>0.0</td>\n      <td>0</td>\n      <td>0</td>\n      <td>5849</td>\n      <td>0.0</td>\n      <td>126.0</td>\n      <td>360.0</td>\n      <td>1.0</td>\n      <td>2</td>\n      <td>1</td>\n    </tr>\n    <tr>\n      <th>1</th>\n      <td>1</td>\n      <td>1</td>\n      <td>1.0</td>\n      <td>0</td>\n      <td>0</td>\n      <td>4583</td>\n      <td>1508.0</td>\n      <td>128.0</td>\n      <td>360.0</td>\n      <td>1.0</td>\n      <td>0</td>\n      <td>0</td>\n    </tr>\n    <tr>\n      <th>2</th>\n      <td>1</td>\n      <td>1</td>\n      <td>0.0</td>\n      <td>0</td>\n      <td>1</td>\n      <td>3000</td>\n      <td>0.0</td>\n      <td>66.0</td>\n      <td>360.0</td>\n      <td>1.0</td>\n      <td>2</td>\n      <td>1</td>\n    </tr>\n    <tr>\n      <th>3</th>\n      <td>1</td>\n      <td>1</td>\n      <td>0.0</td>\n      <td>1</td>\n      <td>0</td>\n      <td>2583</td>\n      <td>2358.0</td>\n      <td>120.0</td>\n      <td>360.0</td>\n      <td>1.0</td>\n      <td>2</td>\n      <td>1</td>\n    </tr>\n    <tr>\n      <th>4</th>\n      <td>1</td>\n      <td>0</td>\n      <td>0.0</td>\n      <td>0</td>\n      <td>0</td>\n      <td>6000</td>\n      <td>0.0</td>\n      <td>141.0</td>\n      <td>360.0</td>\n      <td>1.0</td>\n      <td>2</td>\n      <td>1</td>\n    </tr>\n  </tbody>\n</table>\n</div>"
     },
     "metadata": {},
     "execution_count": 157
    }
   ],
   "source": [
    "DF.head()"
   ]
  },
  {
   "cell_type": "code",
   "execution_count": 158,
   "metadata": {},
   "outputs": [
    {
     "output_type": "execute_result",
     "data": {
      "text/plain": [
       "12"
      ]
     },
     "metadata": {},
     "execution_count": 158
    }
   ],
   "source": [
    "len(DF.describe().columns)"
   ]
  },
  {
   "cell_type": "code",
   "execution_count": 159,
   "metadata": {},
   "outputs": [
    {
     "output_type": "execute_result",
     "data": {
      "text/plain": [
       "12"
      ]
     },
     "metadata": {},
     "execution_count": 159
    }
   ],
   "source": [
    "len(DF.columns)"
   ]
  },
  {
   "cell_type": "code",
   "execution_count": 160,
   "metadata": {},
   "outputs": [],
   "source": [
    "X=DF.iloc[:,0:-1]\n",
    "Y=DF.iloc[:,-1]"
   ]
  },
  {
   "cell_type": "code",
   "execution_count": 163,
   "metadata": {},
   "outputs": [],
   "source": [
    "Xtrain, Xtest, Ytrain, Ytest=train_test_split(X,Y,test_size=0.2)\n",
    "del X\n",
    "del Y"
   ]
  },
  {
   "cell_type": "code",
   "execution_count": 165,
   "metadata": {},
   "outputs": [],
   "source": [
    "Xtrain = tf.keras.utils.normalize(np.array(Xtrain))\n",
    "Xtest = tf.keras.utils.normalize(np.array(Xtest))"
   ]
  },
  {
   "cell_type": "code",
   "execution_count": 174,
   "metadata": {},
   "outputs": [],
   "source": [
    "model=tf.keras.models.Sequential()\n",
    "model.add(layers.Dense(32,activation='relu'))\n",
    "model.add(layers.Dense(128,activation='relu'))\n",
    "model.add(layers.Dense(128,activation='relu'))\n",
    "model.add(layers.Dense(32,activation='relu'))\n",
    "model.add(layers.Dense(2,activation='softmax'))\n",
    "model.compile(optimizer='adam',loss='sparse_categorical_crossentropy',metrics=['accuracy'])"
   ]
  },
  {
   "cell_type": "code",
   "execution_count": 175,
   "metadata": {},
   "outputs": [
    {
     "output_type": "stream",
     "name": "stdout",
     "text": [
      "Epoch 1/128\n",
      "12/12 [==============================] - 0s 13ms/step - loss: 0.6303 - accuracy: 0.7177 - val_loss: 0.5351 - val_accuracy: 0.7848\n",
      "Epoch 2/128\n",
      "12/12 [==============================] - 0s 2ms/step - loss: 0.5967 - accuracy: 0.7177 - val_loss: 0.5257 - val_accuracy: 0.7848\n",
      "Epoch 3/128\n",
      "12/12 [==============================] - 0s 3ms/step - loss: 0.5938 - accuracy: 0.7177 - val_loss: 0.5490 - val_accuracy: 0.7848\n",
      "Epoch 4/128\n",
      "12/12 [==============================] - 0s 3ms/step - loss: 0.6020 - accuracy: 0.7177 - val_loss: 0.5609 - val_accuracy: 0.7848\n",
      "Epoch 5/128\n",
      "12/12 [==============================] - 0s 3ms/step - loss: 0.5984 - accuracy: 0.7177 - val_loss: 0.5301 - val_accuracy: 0.7848\n",
      "Epoch 6/128\n",
      "12/12 [==============================] - 0s 3ms/step - loss: 0.5921 - accuracy: 0.7177 - val_loss: 0.5213 - val_accuracy: 0.7848\n",
      "Epoch 7/128\n",
      "12/12 [==============================] - 0s 3ms/step - loss: 0.5949 - accuracy: 0.7177 - val_loss: 0.5246 - val_accuracy: 0.7848\n",
      "Epoch 8/128\n",
      "12/12 [==============================] - 0s 3ms/step - loss: 0.5910 - accuracy: 0.7177 - val_loss: 0.5455 - val_accuracy: 0.7848\n",
      "Epoch 9/128\n",
      "12/12 [==============================] - 0s 3ms/step - loss: 0.5936 - accuracy: 0.7177 - val_loss: 0.5381 - val_accuracy: 0.7848\n",
      "Epoch 10/128\n",
      "12/12 [==============================] - 0s 3ms/step - loss: 0.5952 - accuracy: 0.7177 - val_loss: 0.5414 - val_accuracy: 0.7848\n",
      "Epoch 11/128\n",
      "12/12 [==============================] - 0s 3ms/step - loss: 0.5927 - accuracy: 0.7177 - val_loss: 0.5271 - val_accuracy: 0.7848\n",
      "Epoch 12/128\n",
      "12/12 [==============================] - 0s 3ms/step - loss: 0.5908 - accuracy: 0.7177 - val_loss: 0.5450 - val_accuracy: 0.7848\n",
      "Epoch 13/128\n",
      "12/12 [==============================] - 0s 3ms/step - loss: 0.5972 - accuracy: 0.7177 - val_loss: 0.5583 - val_accuracy: 0.7848\n",
      "Epoch 14/128\n",
      "12/12 [==============================] - 0s 3ms/step - loss: 0.6023 - accuracy: 0.7191 - val_loss: 0.5573 - val_accuracy: 0.7848\n",
      "Epoch 15/128\n",
      "12/12 [==============================] - 0s 3ms/step - loss: 0.5924 - accuracy: 0.7177 - val_loss: 0.5360 - val_accuracy: 0.7848\n",
      "Epoch 16/128\n",
      "12/12 [==============================] - 0s 3ms/step - loss: 0.5933 - accuracy: 0.7177 - val_loss: 0.5398 - val_accuracy: 0.7848\n",
      "Epoch 17/128\n",
      "12/12 [==============================] - 0s 3ms/step - loss: 0.5922 - accuracy: 0.7163 - val_loss: 0.5209 - val_accuracy: 0.7848\n",
      "Epoch 18/128\n",
      "12/12 [==============================] - 0s 3ms/step - loss: 0.5927 - accuracy: 0.7177 - val_loss: 0.5166 - val_accuracy: 0.7848\n",
      "Epoch 19/128\n",
      "12/12 [==============================] - 0s 3ms/step - loss: 0.5918 - accuracy: 0.7177 - val_loss: 0.5222 - val_accuracy: 0.7848\n",
      "Epoch 20/128\n",
      "12/12 [==============================] - 0s 3ms/step - loss: 0.5900 - accuracy: 0.7177 - val_loss: 0.5424 - val_accuracy: 0.7848\n",
      "Epoch 21/128\n",
      "12/12 [==============================] - 0s 3ms/step - loss: 0.5907 - accuracy: 0.7206 - val_loss: 0.5341 - val_accuracy: 0.7848\n",
      "Epoch 22/128\n",
      "12/12 [==============================] - 0s 3ms/step - loss: 0.5900 - accuracy: 0.7220 - val_loss: 0.5450 - val_accuracy: 0.7848\n",
      "Epoch 23/128\n",
      "12/12 [==============================] - 0s 3ms/step - loss: 0.6017 - accuracy: 0.7149 - val_loss: 0.5616 - val_accuracy: 0.7848\n",
      "Epoch 24/128\n",
      "12/12 [==============================] - 0s 4ms/step - loss: 0.6020 - accuracy: 0.7149 - val_loss: 0.5542 - val_accuracy: 0.7848\n",
      "Epoch 25/128\n",
      "12/12 [==============================] - 0s 3ms/step - loss: 0.5914 - accuracy: 0.7206 - val_loss: 0.5284 - val_accuracy: 0.7848\n",
      "Epoch 26/128\n",
      "12/12 [==============================] - 0s 4ms/step - loss: 0.5897 - accuracy: 0.7177 - val_loss: 0.5200 - val_accuracy: 0.7848\n",
      "Epoch 27/128\n",
      "12/12 [==============================] - 0s 3ms/step - loss: 0.5928 - accuracy: 0.7177 - val_loss: 0.5181 - val_accuracy: 0.7848\n",
      "Epoch 28/128\n",
      "12/12 [==============================] - 0s 3ms/step - loss: 0.5908 - accuracy: 0.7191 - val_loss: 0.5211 - val_accuracy: 0.7848\n",
      "Epoch 29/128\n",
      "12/12 [==============================] - 0s 3ms/step - loss: 0.5894 - accuracy: 0.7206 - val_loss: 0.5224 - val_accuracy: 0.7848\n",
      "Epoch 30/128\n",
      "12/12 [==============================] - 0s 3ms/step - loss: 0.5892 - accuracy: 0.7163 - val_loss: 0.5443 - val_accuracy: 0.7848\n",
      "Epoch 31/128\n",
      "12/12 [==============================] - 0s 3ms/step - loss: 0.5904 - accuracy: 0.7177 - val_loss: 0.5310 - val_accuracy: 0.7848\n",
      "Epoch 32/128\n",
      "12/12 [==============================] - 0s 3ms/step - loss: 0.5890 - accuracy: 0.7191 - val_loss: 0.5227 - val_accuracy: 0.7848\n",
      "Epoch 33/128\n",
      "12/12 [==============================] - 0s 3ms/step - loss: 0.5916 - accuracy: 0.7177 - val_loss: 0.5413 - val_accuracy: 0.7975\n",
      "Epoch 34/128\n",
      "12/12 [==============================] - 0s 3ms/step - loss: 0.5908 - accuracy: 0.7206 - val_loss: 0.5277 - val_accuracy: 0.7848\n",
      "Epoch 35/128\n",
      "12/12 [==============================] - 0s 3ms/step - loss: 0.5878 - accuracy: 0.7206 - val_loss: 0.5202 - val_accuracy: 0.7848\n",
      "Epoch 36/128\n",
      "12/12 [==============================] - 0s 3ms/step - loss: 0.5906 - accuracy: 0.7206 - val_loss: 0.5169 - val_accuracy: 0.7848\n",
      "Epoch 37/128\n",
      "12/12 [==============================] - 0s 3ms/step - loss: 0.5903 - accuracy: 0.7191 - val_loss: 0.5227 - val_accuracy: 0.7848\n",
      "Epoch 38/128\n",
      "12/12 [==============================] - 0s 3ms/step - loss: 0.5867 - accuracy: 0.7149 - val_loss: 0.5361 - val_accuracy: 0.7848\n",
      "Epoch 39/128\n",
      "12/12 [==============================] - 0s 3ms/step - loss: 0.5907 - accuracy: 0.7177 - val_loss: 0.5320 - val_accuracy: 0.7848\n",
      "Epoch 40/128\n",
      "12/12 [==============================] - 0s 3ms/step - loss: 0.5916 - accuracy: 0.7177 - val_loss: 0.5309 - val_accuracy: 0.7848\n",
      "Epoch 41/128\n",
      "12/12 [==============================] - 0s 3ms/step - loss: 0.5944 - accuracy: 0.7177 - val_loss: 0.5315 - val_accuracy: 0.7848\n",
      "Epoch 42/128\n",
      "12/12 [==============================] - 0s 3ms/step - loss: 0.5953 - accuracy: 0.7177 - val_loss: 0.5296 - val_accuracy: 0.7848\n",
      "Epoch 43/128\n",
      "12/12 [==============================] - 0s 3ms/step - loss: 0.5940 - accuracy: 0.7177 - val_loss: 0.5284 - val_accuracy: 0.7848\n",
      "Epoch 44/128\n",
      "12/12 [==============================] - 0s 3ms/step - loss: 0.5920 - accuracy: 0.7177 - val_loss: 0.5327 - val_accuracy: 0.7848\n",
      "Epoch 45/128\n",
      "12/12 [==============================] - 0s 3ms/step - loss: 0.5970 - accuracy: 0.7191 - val_loss: 0.5512 - val_accuracy: 0.7848\n",
      "Epoch 46/128\n",
      "12/12 [==============================] - 0s 3ms/step - loss: 0.5923 - accuracy: 0.7191 - val_loss: 0.5340 - val_accuracy: 0.7848\n",
      "Epoch 47/128\n",
      "12/12 [==============================] - 0s 3ms/step - loss: 0.5929 - accuracy: 0.7191 - val_loss: 0.5414 - val_accuracy: 0.7848\n",
      "Epoch 48/128\n",
      "12/12 [==============================] - 0s 3ms/step - loss: 0.5912 - accuracy: 0.7206 - val_loss: 0.5289 - val_accuracy: 0.7848\n",
      "Epoch 49/128\n",
      "12/12 [==============================] - 0s 4ms/step - loss: 0.5908 - accuracy: 0.7206 - val_loss: 0.5421 - val_accuracy: 0.7848\n",
      "Epoch 50/128\n",
      "12/12 [==============================] - 0s 3ms/step - loss: 0.5974 - accuracy: 0.7220 - val_loss: 0.5508 - val_accuracy: 0.7848\n",
      "Epoch 51/128\n",
      "12/12 [==============================] - 0s 3ms/step - loss: 0.5919 - accuracy: 0.7220 - val_loss: 0.5298 - val_accuracy: 0.7848\n",
      "Epoch 52/128\n",
      "12/12 [==============================] - 0s 3ms/step - loss: 0.5889 - accuracy: 0.7191 - val_loss: 0.5207 - val_accuracy: 0.7848\n",
      "Epoch 53/128\n",
      "12/12 [==============================] - 0s 3ms/step - loss: 0.5905 - accuracy: 0.7177 - val_loss: 0.5195 - val_accuracy: 0.7975\n",
      "Epoch 54/128\n",
      "12/12 [==============================] - 0s 3ms/step - loss: 0.5897 - accuracy: 0.7149 - val_loss: 0.5219 - val_accuracy: 0.7975\n",
      "Epoch 55/128\n",
      "12/12 [==============================] - 0s 3ms/step - loss: 0.5893 - accuracy: 0.7149 - val_loss: 0.5214 - val_accuracy: 0.7975\n",
      "Epoch 56/128\n",
      "12/12 [==============================] - 0s 3ms/step - loss: 0.5883 - accuracy: 0.7191 - val_loss: 0.5236 - val_accuracy: 0.7975\n",
      "Epoch 57/128\n",
      "12/12 [==============================] - 0s 3ms/step - loss: 0.5884 - accuracy: 0.7149 - val_loss: 0.5427 - val_accuracy: 0.7975\n",
      "Epoch 58/128\n",
      "12/12 [==============================] - 0s 3ms/step - loss: 0.5884 - accuracy: 0.7163 - val_loss: 0.5294 - val_accuracy: 0.7848\n",
      "Epoch 59/128\n",
      "12/12 [==============================] - 0s 3ms/step - loss: 0.5906 - accuracy: 0.7220 - val_loss: 0.5594 - val_accuracy: 0.7722\n",
      "Epoch 60/128\n",
      "12/12 [==============================] - 0s 3ms/step - loss: 0.6101 - accuracy: 0.7078 - val_loss: 0.5635 - val_accuracy: 0.7848\n",
      "Epoch 61/128\n",
      "12/12 [==============================] - 0s 3ms/step - loss: 0.5915 - accuracy: 0.7121 - val_loss: 0.5241 - val_accuracy: 0.7848\n",
      "Epoch 62/128\n",
      "12/12 [==============================] - 0s 3ms/step - loss: 0.5932 - accuracy: 0.7191 - val_loss: 0.5203 - val_accuracy: 0.7848\n",
      "Epoch 63/128\n",
      "12/12 [==============================] - 0s 3ms/step - loss: 0.5912 - accuracy: 0.7191 - val_loss: 0.5221 - val_accuracy: 0.7848\n",
      "Epoch 64/128\n",
      "12/12 [==============================] - 0s 3ms/step - loss: 0.5886 - accuracy: 0.7206 - val_loss: 0.5240 - val_accuracy: 0.7848\n",
      "Epoch 65/128\n",
      "12/12 [==============================] - 0s 3ms/step - loss: 0.5877 - accuracy: 0.7220 - val_loss: 0.5231 - val_accuracy: 0.7848\n",
      "Epoch 66/128\n",
      "12/12 [==============================] - 0s 3ms/step - loss: 0.5891 - accuracy: 0.7220 - val_loss: 0.5204 - val_accuracy: 0.7848\n",
      "Epoch 67/128\n",
      "12/12 [==============================] - 0s 3ms/step - loss: 0.5879 - accuracy: 0.7220 - val_loss: 0.5260 - val_accuracy: 0.7848\n",
      "Epoch 68/128\n",
      "12/12 [==============================] - 0s 3ms/step - loss: 0.5855 - accuracy: 0.7177 - val_loss: 0.5466 - val_accuracy: 0.7975\n",
      "Epoch 69/128\n",
      "12/12 [==============================] - 0s 3ms/step - loss: 0.5948 - accuracy: 0.7149 - val_loss: 0.5539 - val_accuracy: 0.7848\n",
      "Epoch 70/128\n",
      "12/12 [==============================] - 0s 3ms/step - loss: 0.5910 - accuracy: 0.7206 - val_loss: 0.5332 - val_accuracy: 0.7848\n",
      "Epoch 71/128\n",
      "12/12 [==============================] - 0s 5ms/step - loss: 0.5893 - accuracy: 0.7206 - val_loss: 0.5445 - val_accuracy: 0.7848\n",
      "Epoch 72/128\n",
      "12/12 [==============================] - 0s 4ms/step - loss: 0.5938 - accuracy: 0.7191 - val_loss: 0.5500 - val_accuracy: 0.7848\n",
      "Epoch 73/128\n",
      "12/12 [==============================] - 0s 3ms/step - loss: 0.5898 - accuracy: 0.7206 - val_loss: 0.5295 - val_accuracy: 0.7848\n",
      "Epoch 74/128\n",
      "12/12 [==============================] - 0s 4ms/step - loss: 0.5886 - accuracy: 0.7206 - val_loss: 0.5243 - val_accuracy: 0.7848\n",
      "Epoch 75/128\n",
      "12/12 [==============================] - 0s 3ms/step - loss: 0.5877 - accuracy: 0.7220 - val_loss: 0.5260 - val_accuracy: 0.7848\n",
      "Epoch 76/128\n",
      "12/12 [==============================] - 0s 3ms/step - loss: 0.5859 - accuracy: 0.7163 - val_loss: 0.5324 - val_accuracy: 0.7975\n",
      "Epoch 77/128\n",
      "12/12 [==============================] - 0s 3ms/step - loss: 0.5894 - accuracy: 0.7149 - val_loss: 0.5479 - val_accuracy: 0.7975\n",
      "Epoch 78/128\n",
      "12/12 [==============================] - 0s 3ms/step - loss: 0.5877 - accuracy: 0.7206 - val_loss: 0.5384 - val_accuracy: 0.7848\n",
      "Epoch 79/128\n",
      "12/12 [==============================] - 0s 3ms/step - loss: 0.5902 - accuracy: 0.7191 - val_loss: 0.5463 - val_accuracy: 0.7848\n",
      "Epoch 80/128\n",
      "12/12 [==============================] - 0s 3ms/step - loss: 0.5893 - accuracy: 0.7191 - val_loss: 0.5307 - val_accuracy: 0.7848\n",
      "Epoch 81/128\n",
      "12/12 [==============================] - 0s 4ms/step - loss: 0.5868 - accuracy: 0.7191 - val_loss: 0.5231 - val_accuracy: 0.7848\n",
      "Epoch 82/128\n",
      "12/12 [==============================] - 0s 3ms/step - loss: 0.5879 - accuracy: 0.7191 - val_loss: 0.5200 - val_accuracy: 0.7848\n",
      "Epoch 83/128\n",
      "12/12 [==============================] - 0s 3ms/step - loss: 0.5873 - accuracy: 0.7206 - val_loss: 0.5214 - val_accuracy: 0.7848\n",
      "Epoch 84/128\n",
      "12/12 [==============================] - 0s 3ms/step - loss: 0.5882 - accuracy: 0.7191 - val_loss: 0.5253 - val_accuracy: 0.7848\n",
      "Epoch 85/128\n",
      "12/12 [==============================] - 0s 3ms/step - loss: 0.5891 - accuracy: 0.7191 - val_loss: 0.5251 - val_accuracy: 0.7848\n",
      "Epoch 86/128\n",
      "12/12 [==============================] - 0s 3ms/step - loss: 0.5862 - accuracy: 0.7206 - val_loss: 0.5267 - val_accuracy: 0.7848\n",
      "Epoch 87/128\n",
      "12/12 [==============================] - 0s 3ms/step - loss: 0.5862 - accuracy: 0.7191 - val_loss: 0.5424 - val_accuracy: 0.7848\n",
      "Epoch 88/128\n",
      "12/12 [==============================] - 0s 3ms/step - loss: 0.5861 - accuracy: 0.7191 - val_loss: 0.5346 - val_accuracy: 0.7848\n",
      "Epoch 89/128\n",
      "12/12 [==============================] - 0s 2ms/step - loss: 0.5871 - accuracy: 0.7220 - val_loss: 0.5448 - val_accuracy: 0.7848\n",
      "Epoch 90/128\n",
      "12/12 [==============================] - 0s 3ms/step - loss: 0.5910 - accuracy: 0.7206 - val_loss: 0.5490 - val_accuracy: 0.7848\n",
      "Epoch 91/128\n",
      "12/12 [==============================] - 0s 3ms/step - loss: 0.5877 - accuracy: 0.7220 - val_loss: 0.5346 - val_accuracy: 0.7848\n",
      "Epoch 92/128\n",
      "12/12 [==============================] - 0s 3ms/step - loss: 0.5862 - accuracy: 0.7206 - val_loss: 0.5303 - val_accuracy: 0.7848\n",
      "Epoch 93/128\n",
      "12/12 [==============================] - 0s 3ms/step - loss: 0.5847 - accuracy: 0.7206 - val_loss: 0.5420 - val_accuracy: 0.7848\n",
      "Epoch 94/128\n",
      "12/12 [==============================] - 0s 3ms/step - loss: 0.5870 - accuracy: 0.7191 - val_loss: 0.5296 - val_accuracy: 0.7848\n",
      "Epoch 95/128\n",
      "12/12 [==============================] - 0s 3ms/step - loss: 0.5841 - accuracy: 0.7220 - val_loss: 0.5260 - val_accuracy: 0.7848\n",
      "Epoch 96/128\n",
      "12/12 [==============================] - 0s 3ms/step - loss: 0.5868 - accuracy: 0.7206 - val_loss: 0.5476 - val_accuracy: 0.7848\n",
      "Epoch 97/128\n",
      "12/12 [==============================] - 0s 3ms/step - loss: 0.5921 - accuracy: 0.7206 - val_loss: 0.5487 - val_accuracy: 0.7848\n",
      "Epoch 98/128\n",
      "12/12 [==============================] - 0s 2ms/step - loss: 0.5872 - accuracy: 0.7220 - val_loss: 0.5319 - val_accuracy: 0.7848\n",
      "Epoch 99/128\n",
      "12/12 [==============================] - 0s 3ms/step - loss: 0.5867 - accuracy: 0.7191 - val_loss: 0.5416 - val_accuracy: 0.7848\n",
      "Epoch 100/128\n",
      "12/12 [==============================] - 0s 3ms/step - loss: 0.5902 - accuracy: 0.7191 - val_loss: 0.5463 - val_accuracy: 0.7848\n",
      "Epoch 101/128\n",
      "12/12 [==============================] - 0s 3ms/step - loss: 0.5852 - accuracy: 0.7206 - val_loss: 0.5311 - val_accuracy: 0.7848\n",
      "Epoch 102/128\n",
      "12/12 [==============================] - 0s 3ms/step - loss: 0.5847 - accuracy: 0.7220 - val_loss: 0.5227 - val_accuracy: 0.7848\n",
      "Epoch 103/128\n",
      "12/12 [==============================] - 0s 3ms/step - loss: 0.5848 - accuracy: 0.7191 - val_loss: 0.5220 - val_accuracy: 0.7848\n",
      "Epoch 104/128\n",
      "12/12 [==============================] - 0s 3ms/step - loss: 0.5852 - accuracy: 0.7206 - val_loss: 0.5205 - val_accuracy: 0.7848\n",
      "Epoch 105/128\n",
      "12/12 [==============================] - 0s 3ms/step - loss: 0.5854 - accuracy: 0.7220 - val_loss: 0.5273 - val_accuracy: 0.7848\n",
      "Epoch 106/128\n",
      "12/12 [==============================] - 0s 3ms/step - loss: 0.5846 - accuracy: 0.7206 - val_loss: 0.5404 - val_accuracy: 0.7848\n",
      "Epoch 107/128\n",
      "12/12 [==============================] - 0s 3ms/step - loss: 0.5833 - accuracy: 0.7220 - val_loss: 0.5302 - val_accuracy: 0.7848\n",
      "Epoch 108/128\n",
      "12/12 [==============================] - 0s 3ms/step - loss: 0.5870 - accuracy: 0.7191 - val_loss: 0.5464 - val_accuracy: 0.7848\n",
      "Epoch 109/128\n",
      "12/12 [==============================] - 0s 3ms/step - loss: 0.5908 - accuracy: 0.7206 - val_loss: 0.5476 - val_accuracy: 0.7848\n",
      "Epoch 110/128\n",
      "12/12 [==============================] - 0s 3ms/step - loss: 0.5851 - accuracy: 0.7220 - val_loss: 0.5259 - val_accuracy: 0.7848\n",
      "Epoch 111/128\n",
      "12/12 [==============================] - 0s 3ms/step - loss: 0.5835 - accuracy: 0.7220 - val_loss: 0.5200 - val_accuracy: 0.7848\n",
      "Epoch 112/128\n",
      "12/12 [==============================] - 0s 3ms/step - loss: 0.5857 - accuracy: 0.7220 - val_loss: 0.5226 - val_accuracy: 0.7848\n",
      "Epoch 113/128\n",
      "12/12 [==============================] - 0s 3ms/step - loss: 0.5822 - accuracy: 0.7220 - val_loss: 0.5246 - val_accuracy: 0.7848\n",
      "Epoch 114/128\n",
      "12/12 [==============================] - 0s 3ms/step - loss: 0.5841 - accuracy: 0.7191 - val_loss: 0.5213 - val_accuracy: 0.7848\n",
      "Epoch 115/128\n",
      "12/12 [==============================] - 0s 3ms/step - loss: 0.5836 - accuracy: 0.7220 - val_loss: 0.5228 - val_accuracy: 0.7848\n",
      "Epoch 116/128\n",
      "12/12 [==============================] - 0s 4ms/step - loss: 0.5815 - accuracy: 0.7220 - val_loss: 0.5238 - val_accuracy: 0.7848\n",
      "Epoch 117/128\n",
      "12/12 [==============================] - 0s 3ms/step - loss: 0.5813 - accuracy: 0.7177 - val_loss: 0.5259 - val_accuracy: 0.7848\n",
      "Epoch 118/128\n",
      "12/12 [==============================] - 0s 3ms/step - loss: 0.5844 - accuracy: 0.7220 - val_loss: 0.5438 - val_accuracy: 0.7848\n",
      "Epoch 119/128\n",
      "12/12 [==============================] - 0s 4ms/step - loss: 0.5821 - accuracy: 0.7220 - val_loss: 0.5261 - val_accuracy: 0.7848\n",
      "Epoch 120/128\n",
      "12/12 [==============================] - 0s 3ms/step - loss: 0.5827 - accuracy: 0.7220 - val_loss: 0.5210 - val_accuracy: 0.7848\n",
      "Epoch 121/128\n",
      "12/12 [==============================] - 0s 3ms/step - loss: 0.5848 - accuracy: 0.7191 - val_loss: 0.5230 - val_accuracy: 0.7848\n",
      "Epoch 122/128\n",
      "12/12 [==============================] - 0s 3ms/step - loss: 0.5815 - accuracy: 0.7220 - val_loss: 0.5465 - val_accuracy: 0.7848\n",
      "Epoch 123/128\n",
      "12/12 [==============================] - 0s 3ms/step - loss: 0.5857 - accuracy: 0.7206 - val_loss: 0.5352 - val_accuracy: 0.7848\n",
      "Epoch 124/128\n",
      "12/12 [==============================] - 0s 3ms/step - loss: 0.5859 - accuracy: 0.7220 - val_loss: 0.5462 - val_accuracy: 0.7848\n",
      "Epoch 125/128\n",
      "12/12 [==============================] - 0s 3ms/step - loss: 0.5889 - accuracy: 0.7206 - val_loss: 0.5455 - val_accuracy: 0.7848\n",
      "Epoch 126/128\n",
      "12/12 [==============================] - 0s 3ms/step - loss: 0.5818 - accuracy: 0.7220 - val_loss: 0.5259 - val_accuracy: 0.7848\n",
      "Epoch 127/128\n",
      "12/12 [==============================] - 0s 3ms/step - loss: 0.5808 - accuracy: 0.7206 - val_loss: 0.5253 - val_accuracy: 0.7848\n",
      "Epoch 128/128\n",
      "12/12 [==============================] - 0s 3ms/step - loss: 0.5828 - accuracy: 0.7149 - val_loss: 0.5201 - val_accuracy: 0.7848\n"
     ]
    }
   ],
   "source": [
    "fit=model.fit(Xtrain,Ytrain,validation_split=0.1,epochs=128,batch_size=64)"
   ]
  },
  {
   "cell_type": "code",
   "execution_count": 176,
   "metadata": {},
   "outputs": [],
   "source": [
    "DFAnalysis=pd.DataFrame()"
   ]
  },
  {
   "cell_type": "code",
   "execution_count": 177,
   "metadata": {},
   "outputs": [],
   "source": [
    "for i in fit.history.keys():\n",
    "    DFAnalysis[i]=np.array(fit.history[i])\n"
   ]
  },
  {
   "cell_type": "code",
   "execution_count": 178,
   "metadata": {},
   "outputs": [
    {
     "output_type": "execute_result",
     "data": {
      "text/plain": [
       "dict_keys(['loss', 'accuracy', 'val_loss', 'val_accuracy'])"
      ]
     },
     "metadata": {},
     "execution_count": 178
    }
   ],
   "source": [
    "fit.history.keys()"
   ]
  },
  {
   "cell_type": "code",
   "execution_count": 179,
   "metadata": {},
   "outputs": [
    {
     "output_type": "display_data",
     "data": {
      "text/plain": "<Figure size 432x288 with 1 Axes>",
      "image/svg+xml": "<?xml version=\"1.0\" encoding=\"utf-8\" standalone=\"no\"?>\r\n<!DOCTYPE svg PUBLIC \"-//W3C//DTD SVG 1.1//EN\"\r\n  \"http://www.w3.org/Graphics/SVG/1.1/DTD/svg11.dtd\">\r\n<!-- Created with matplotlib (https://matplotlib.org/) -->\r\n<svg height=\"248.518125pt\" version=\"1.1\" viewBox=\"0 0 378.465625 248.518125\" width=\"378.465625pt\" xmlns=\"http://www.w3.org/2000/svg\" xmlns:xlink=\"http://www.w3.org/1999/xlink\">\r\n <metadata>\r\n  <rdf:RDF xmlns:cc=\"http://creativecommons.org/ns#\" xmlns:dc=\"http://purl.org/dc/elements/1.1/\" xmlns:rdf=\"http://www.w3.org/1999/02/22-rdf-syntax-ns#\">\r\n   <cc:Work>\r\n    <dc:type rdf:resource=\"http://purl.org/dc/dcmitype/StillImage\"/>\r\n    <dc:date>2020-11-17T23:59:24.923633</dc:date>\r\n    <dc:format>image/svg+xml</dc:format>\r\n    <dc:creator>\r\n     <cc:Agent>\r\n      <dc:title>Matplotlib v3.3.2, https://matplotlib.org/</dc:title>\r\n     </cc:Agent>\r\n    </dc:creator>\r\n   </cc:Work>\r\n  </rdf:RDF>\r\n </metadata>\r\n <defs>\r\n  <style type=\"text/css\">*{stroke-linecap:butt;stroke-linejoin:round;}</style>\r\n </defs>\r\n <g id=\"figure_1\">\r\n  <g id=\"patch_1\">\r\n   <path d=\"M 0 248.518125 \r\nL 378.465625 248.518125 \r\nL 378.465625 0 \r\nL 0 0 \r\nz\r\n\" style=\"fill:none;\"/>\r\n  </g>\r\n  <g id=\"axes_1\">\r\n   <g id=\"patch_2\">\r\n    <path d=\"M 36.465625 224.64 \r\nL 371.265625 224.64 \r\nL 371.265625 7.2 \r\nL 36.465625 7.2 \r\nz\r\n\" style=\"fill:#ffffff;\"/>\r\n   </g>\r\n   <g id=\"matplotlib.axis_1\">\r\n    <g id=\"xtick_1\">\r\n     <g id=\"line2d_1\">\r\n      <defs>\r\n       <path d=\"M 0 0 \r\nL 0 3.5 \r\n\" id=\"ma5bde4ebf2\" style=\"stroke:#000000;stroke-width:0.8;\"/>\r\n      </defs>\r\n      <g>\r\n       <use style=\"stroke:#000000;stroke-width:0.8;\" x=\"51.683807\" xlink:href=\"#ma5bde4ebf2\" y=\"224.64\"/>\r\n      </g>\r\n     </g>\r\n     <g id=\"text_1\">\r\n      <!-- 0 -->\r\n      <g transform=\"translate(48.502557 239.238437)scale(0.1 -0.1)\">\r\n       <defs>\r\n        <path d=\"M 31.78125 66.40625 \r\nQ 24.171875 66.40625 20.328125 58.90625 \r\nQ 16.5 51.421875 16.5 36.375 \r\nQ 16.5 21.390625 20.328125 13.890625 \r\nQ 24.171875 6.390625 31.78125 6.390625 \r\nQ 39.453125 6.390625 43.28125 13.890625 \r\nQ 47.125 21.390625 47.125 36.375 \r\nQ 47.125 51.421875 43.28125 58.90625 \r\nQ 39.453125 66.40625 31.78125 66.40625 \r\nz\r\nM 31.78125 74.21875 \r\nQ 44.046875 74.21875 50.515625 64.515625 \r\nQ 56.984375 54.828125 56.984375 36.375 \r\nQ 56.984375 17.96875 50.515625 8.265625 \r\nQ 44.046875 -1.421875 31.78125 -1.421875 \r\nQ 19.53125 -1.421875 13.0625 8.265625 \r\nQ 6.59375 17.96875 6.59375 36.375 \r\nQ 6.59375 54.828125 13.0625 64.515625 \r\nQ 19.53125 74.21875 31.78125 74.21875 \r\nz\r\n\" id=\"DejaVuSans-48\"/>\r\n       </defs>\r\n       <use xlink:href=\"#DejaVuSans-48\"/>\r\n      </g>\r\n     </g>\r\n    </g>\r\n    <g id=\"xtick_2\">\r\n     <g id=\"line2d_2\">\r\n      <g>\r\n       <use style=\"stroke:#000000;stroke-width:0.8;\" x=\"99.615088\" xlink:href=\"#ma5bde4ebf2\" y=\"224.64\"/>\r\n      </g>\r\n     </g>\r\n     <g id=\"text_2\">\r\n      <!-- 20 -->\r\n      <g transform=\"translate(93.252588 239.238437)scale(0.1 -0.1)\">\r\n       <defs>\r\n        <path d=\"M 19.1875 8.296875 \r\nL 53.609375 8.296875 \r\nL 53.609375 0 \r\nL 7.328125 0 \r\nL 7.328125 8.296875 \r\nQ 12.9375 14.109375 22.625 23.890625 \r\nQ 32.328125 33.6875 34.8125 36.53125 \r\nQ 39.546875 41.84375 41.421875 45.53125 \r\nQ 43.3125 49.21875 43.3125 52.78125 \r\nQ 43.3125 58.59375 39.234375 62.25 \r\nQ 35.15625 65.921875 28.609375 65.921875 \r\nQ 23.96875 65.921875 18.8125 64.3125 \r\nQ 13.671875 62.703125 7.8125 59.421875 \r\nL 7.8125 69.390625 \r\nQ 13.765625 71.78125 18.9375 73 \r\nQ 24.125 74.21875 28.421875 74.21875 \r\nQ 39.75 74.21875 46.484375 68.546875 \r\nQ 53.21875 62.890625 53.21875 53.421875 \r\nQ 53.21875 48.921875 51.53125 44.890625 \r\nQ 49.859375 40.875 45.40625 35.40625 \r\nQ 44.1875 33.984375 37.640625 27.21875 \r\nQ 31.109375 20.453125 19.1875 8.296875 \r\nz\r\n\" id=\"DejaVuSans-50\"/>\r\n       </defs>\r\n       <use xlink:href=\"#DejaVuSans-50\"/>\r\n       <use x=\"63.623047\" xlink:href=\"#DejaVuSans-48\"/>\r\n      </g>\r\n     </g>\r\n    </g>\r\n    <g id=\"xtick_3\">\r\n     <g id=\"line2d_3\">\r\n      <g>\r\n       <use style=\"stroke:#000000;stroke-width:0.8;\" x=\"147.546369\" xlink:href=\"#ma5bde4ebf2\" y=\"224.64\"/>\r\n      </g>\r\n     </g>\r\n     <g id=\"text_3\">\r\n      <!-- 40 -->\r\n      <g transform=\"translate(141.183869 239.238437)scale(0.1 -0.1)\">\r\n       <defs>\r\n        <path d=\"M 37.796875 64.3125 \r\nL 12.890625 25.390625 \r\nL 37.796875 25.390625 \r\nz\r\nM 35.203125 72.90625 \r\nL 47.609375 72.90625 \r\nL 47.609375 25.390625 \r\nL 58.015625 25.390625 \r\nL 58.015625 17.1875 \r\nL 47.609375 17.1875 \r\nL 47.609375 0 \r\nL 37.796875 0 \r\nL 37.796875 17.1875 \r\nL 4.890625 17.1875 \r\nL 4.890625 26.703125 \r\nz\r\n\" id=\"DejaVuSans-52\"/>\r\n       </defs>\r\n       <use xlink:href=\"#DejaVuSans-52\"/>\r\n       <use x=\"63.623047\" xlink:href=\"#DejaVuSans-48\"/>\r\n      </g>\r\n     </g>\r\n    </g>\r\n    <g id=\"xtick_4\">\r\n     <g id=\"line2d_4\">\r\n      <g>\r\n       <use style=\"stroke:#000000;stroke-width:0.8;\" x=\"195.477651\" xlink:href=\"#ma5bde4ebf2\" y=\"224.64\"/>\r\n      </g>\r\n     </g>\r\n     <g id=\"text_4\">\r\n      <!-- 60 -->\r\n      <g transform=\"translate(189.115151 239.238437)scale(0.1 -0.1)\">\r\n       <defs>\r\n        <path d=\"M 33.015625 40.375 \r\nQ 26.375 40.375 22.484375 35.828125 \r\nQ 18.609375 31.296875 18.609375 23.390625 \r\nQ 18.609375 15.53125 22.484375 10.953125 \r\nQ 26.375 6.390625 33.015625 6.390625 \r\nQ 39.65625 6.390625 43.53125 10.953125 \r\nQ 47.40625 15.53125 47.40625 23.390625 \r\nQ 47.40625 31.296875 43.53125 35.828125 \r\nQ 39.65625 40.375 33.015625 40.375 \r\nz\r\nM 52.59375 71.296875 \r\nL 52.59375 62.3125 \r\nQ 48.875 64.0625 45.09375 64.984375 \r\nQ 41.3125 65.921875 37.59375 65.921875 \r\nQ 27.828125 65.921875 22.671875 59.328125 \r\nQ 17.53125 52.734375 16.796875 39.40625 \r\nQ 19.671875 43.65625 24.015625 45.921875 \r\nQ 28.375 48.1875 33.59375 48.1875 \r\nQ 44.578125 48.1875 50.953125 41.515625 \r\nQ 57.328125 34.859375 57.328125 23.390625 \r\nQ 57.328125 12.15625 50.6875 5.359375 \r\nQ 44.046875 -1.421875 33.015625 -1.421875 \r\nQ 20.359375 -1.421875 13.671875 8.265625 \r\nQ 6.984375 17.96875 6.984375 36.375 \r\nQ 6.984375 53.65625 15.1875 63.9375 \r\nQ 23.390625 74.21875 37.203125 74.21875 \r\nQ 40.921875 74.21875 44.703125 73.484375 \r\nQ 48.484375 72.75 52.59375 71.296875 \r\nz\r\n\" id=\"DejaVuSans-54\"/>\r\n       </defs>\r\n       <use xlink:href=\"#DejaVuSans-54\"/>\r\n       <use x=\"63.623047\" xlink:href=\"#DejaVuSans-48\"/>\r\n      </g>\r\n     </g>\r\n    </g>\r\n    <g id=\"xtick_5\">\r\n     <g id=\"line2d_5\">\r\n      <g>\r\n       <use style=\"stroke:#000000;stroke-width:0.8;\" x=\"243.408932\" xlink:href=\"#ma5bde4ebf2\" y=\"224.64\"/>\r\n      </g>\r\n     </g>\r\n     <g id=\"text_5\">\r\n      <!-- 80 -->\r\n      <g transform=\"translate(237.046432 239.238437)scale(0.1 -0.1)\">\r\n       <defs>\r\n        <path d=\"M 31.78125 34.625 \r\nQ 24.75 34.625 20.71875 30.859375 \r\nQ 16.703125 27.09375 16.703125 20.515625 \r\nQ 16.703125 13.921875 20.71875 10.15625 \r\nQ 24.75 6.390625 31.78125 6.390625 \r\nQ 38.8125 6.390625 42.859375 10.171875 \r\nQ 46.921875 13.96875 46.921875 20.515625 \r\nQ 46.921875 27.09375 42.890625 30.859375 \r\nQ 38.875 34.625 31.78125 34.625 \r\nz\r\nM 21.921875 38.8125 \r\nQ 15.578125 40.375 12.03125 44.71875 \r\nQ 8.5 49.078125 8.5 55.328125 \r\nQ 8.5 64.0625 14.71875 69.140625 \r\nQ 20.953125 74.21875 31.78125 74.21875 \r\nQ 42.671875 74.21875 48.875 69.140625 \r\nQ 55.078125 64.0625 55.078125 55.328125 \r\nQ 55.078125 49.078125 51.53125 44.71875 \r\nQ 48 40.375 41.703125 38.8125 \r\nQ 48.828125 37.15625 52.796875 32.3125 \r\nQ 56.78125 27.484375 56.78125 20.515625 \r\nQ 56.78125 9.90625 50.3125 4.234375 \r\nQ 43.84375 -1.421875 31.78125 -1.421875 \r\nQ 19.734375 -1.421875 13.25 4.234375 \r\nQ 6.78125 9.90625 6.78125 20.515625 \r\nQ 6.78125 27.484375 10.78125 32.3125 \r\nQ 14.796875 37.15625 21.921875 38.8125 \r\nz\r\nM 18.3125 54.390625 \r\nQ 18.3125 48.734375 21.84375 45.5625 \r\nQ 25.390625 42.390625 31.78125 42.390625 \r\nQ 38.140625 42.390625 41.71875 45.5625 \r\nQ 45.3125 48.734375 45.3125 54.390625 \r\nQ 45.3125 60.0625 41.71875 63.234375 \r\nQ 38.140625 66.40625 31.78125 66.40625 \r\nQ 25.390625 66.40625 21.84375 63.234375 \r\nQ 18.3125 60.0625 18.3125 54.390625 \r\nz\r\n\" id=\"DejaVuSans-56\"/>\r\n       </defs>\r\n       <use xlink:href=\"#DejaVuSans-56\"/>\r\n       <use x=\"63.623047\" xlink:href=\"#DejaVuSans-48\"/>\r\n      </g>\r\n     </g>\r\n    </g>\r\n    <g id=\"xtick_6\">\r\n     <g id=\"line2d_6\">\r\n      <g>\r\n       <use style=\"stroke:#000000;stroke-width:0.8;\" x=\"291.340213\" xlink:href=\"#ma5bde4ebf2\" y=\"224.64\"/>\r\n      </g>\r\n     </g>\r\n     <g id=\"text_6\">\r\n      <!-- 100 -->\r\n      <g transform=\"translate(281.796463 239.238437)scale(0.1 -0.1)\">\r\n       <defs>\r\n        <path d=\"M 12.40625 8.296875 \r\nL 28.515625 8.296875 \r\nL 28.515625 63.921875 \r\nL 10.984375 60.40625 \r\nL 10.984375 69.390625 \r\nL 28.421875 72.90625 \r\nL 38.28125 72.90625 \r\nL 38.28125 8.296875 \r\nL 54.390625 8.296875 \r\nL 54.390625 0 \r\nL 12.40625 0 \r\nz\r\n\" id=\"DejaVuSans-49\"/>\r\n       </defs>\r\n       <use xlink:href=\"#DejaVuSans-49\"/>\r\n       <use x=\"63.623047\" xlink:href=\"#DejaVuSans-48\"/>\r\n       <use x=\"127.246094\" xlink:href=\"#DejaVuSans-48\"/>\r\n      </g>\r\n     </g>\r\n    </g>\r\n    <g id=\"xtick_7\">\r\n     <g id=\"line2d_7\">\r\n      <g>\r\n       <use style=\"stroke:#000000;stroke-width:0.8;\" x=\"339.271495\" xlink:href=\"#ma5bde4ebf2\" y=\"224.64\"/>\r\n      </g>\r\n     </g>\r\n     <g id=\"text_7\">\r\n      <!-- 120 -->\r\n      <g transform=\"translate(329.727745 239.238437)scale(0.1 -0.1)\">\r\n       <use xlink:href=\"#DejaVuSans-49\"/>\r\n       <use x=\"63.623047\" xlink:href=\"#DejaVuSans-50\"/>\r\n       <use x=\"127.246094\" xlink:href=\"#DejaVuSans-48\"/>\r\n      </g>\r\n     </g>\r\n    </g>\r\n   </g>\r\n   <g id=\"matplotlib.axis_2\">\r\n    <g id=\"ytick_1\">\r\n     <g id=\"line2d_8\">\r\n      <defs>\r\n       <path d=\"M 0 0 \r\nL -3.5 0 \r\n\" id=\"ma31fcdb73f\" style=\"stroke:#000000;stroke-width:0.8;\"/>\r\n      </defs>\r\n      <g>\r\n       <use style=\"stroke:#000000;stroke-width:0.8;\" x=\"36.465625\" xlink:href=\"#ma31fcdb73f\" y=\"208.868292\"/>\r\n      </g>\r\n     </g>\r\n     <g id=\"text_8\">\r\n      <!-- 0.52 -->\r\n      <g transform=\"translate(7.2 212.667511)scale(0.1 -0.1)\">\r\n       <defs>\r\n        <path d=\"M 10.6875 12.40625 \r\nL 21 12.40625 \r\nL 21 0 \r\nL 10.6875 0 \r\nz\r\n\" id=\"DejaVuSans-46\"/>\r\n        <path d=\"M 10.796875 72.90625 \r\nL 49.515625 72.90625 \r\nL 49.515625 64.59375 \r\nL 19.828125 64.59375 \r\nL 19.828125 46.734375 \r\nQ 21.96875 47.46875 24.109375 47.828125 \r\nQ 26.265625 48.1875 28.421875 48.1875 \r\nQ 40.625 48.1875 47.75 41.5 \r\nQ 54.890625 34.8125 54.890625 23.390625 \r\nQ 54.890625 11.625 47.5625 5.09375 \r\nQ 40.234375 -1.421875 26.90625 -1.421875 \r\nQ 22.3125 -1.421875 17.546875 -0.640625 \r\nQ 12.796875 0.140625 7.71875 1.703125 \r\nL 7.71875 11.625 \r\nQ 12.109375 9.234375 16.796875 8.0625 \r\nQ 21.484375 6.890625 26.703125 6.890625 \r\nQ 35.15625 6.890625 40.078125 11.328125 \r\nQ 45.015625 15.765625 45.015625 23.390625 \r\nQ 45.015625 31 40.078125 35.4375 \r\nQ 35.15625 39.890625 26.703125 39.890625 \r\nQ 22.75 39.890625 18.8125 39.015625 \r\nQ 14.890625 38.140625 10.796875 36.28125 \r\nz\r\n\" id=\"DejaVuSans-53\"/>\r\n       </defs>\r\n       <use xlink:href=\"#DejaVuSans-48\"/>\r\n       <use x=\"63.623047\" xlink:href=\"#DejaVuSans-46\"/>\r\n       <use x=\"95.410156\" xlink:href=\"#DejaVuSans-53\"/>\r\n       <use x=\"159.033203\" xlink:href=\"#DejaVuSans-50\"/>\r\n      </g>\r\n     </g>\r\n    </g>\r\n    <g id=\"ytick_2\">\r\n     <g id=\"line2d_9\">\r\n      <g>\r\n       <use style=\"stroke:#000000;stroke-width:0.8;\" x=\"36.465625\" xlink:href=\"#ma31fcdb73f\" y=\"174.095897\"/>\r\n      </g>\r\n     </g>\r\n     <g id=\"text_9\">\r\n      <!-- 0.54 -->\r\n      <g transform=\"translate(7.2 177.895116)scale(0.1 -0.1)\">\r\n       <use xlink:href=\"#DejaVuSans-48\"/>\r\n       <use x=\"63.623047\" xlink:href=\"#DejaVuSans-46\"/>\r\n       <use x=\"95.410156\" xlink:href=\"#DejaVuSans-53\"/>\r\n       <use x=\"159.033203\" xlink:href=\"#DejaVuSans-52\"/>\r\n      </g>\r\n     </g>\r\n    </g>\r\n    <g id=\"ytick_3\">\r\n     <g id=\"line2d_10\">\r\n      <g>\r\n       <use style=\"stroke:#000000;stroke-width:0.8;\" x=\"36.465625\" xlink:href=\"#ma31fcdb73f\" y=\"139.323502\"/>\r\n      </g>\r\n     </g>\r\n     <g id=\"text_10\">\r\n      <!-- 0.56 -->\r\n      <g transform=\"translate(7.2 143.122721)scale(0.1 -0.1)\">\r\n       <use xlink:href=\"#DejaVuSans-48\"/>\r\n       <use x=\"63.623047\" xlink:href=\"#DejaVuSans-46\"/>\r\n       <use x=\"95.410156\" xlink:href=\"#DejaVuSans-53\"/>\r\n       <use x=\"159.033203\" xlink:href=\"#DejaVuSans-54\"/>\r\n      </g>\r\n     </g>\r\n    </g>\r\n    <g id=\"ytick_4\">\r\n     <g id=\"line2d_11\">\r\n      <g>\r\n       <use style=\"stroke:#000000;stroke-width:0.8;\" x=\"36.465625\" xlink:href=\"#ma31fcdb73f\" y=\"104.551107\"/>\r\n      </g>\r\n     </g>\r\n     <g id=\"text_11\">\r\n      <!-- 0.58 -->\r\n      <g transform=\"translate(7.2 108.350326)scale(0.1 -0.1)\">\r\n       <use xlink:href=\"#DejaVuSans-48\"/>\r\n       <use x=\"63.623047\" xlink:href=\"#DejaVuSans-46\"/>\r\n       <use x=\"95.410156\" xlink:href=\"#DejaVuSans-53\"/>\r\n       <use x=\"159.033203\" xlink:href=\"#DejaVuSans-56\"/>\r\n      </g>\r\n     </g>\r\n    </g>\r\n    <g id=\"ytick_5\">\r\n     <g id=\"line2d_12\">\r\n      <g>\r\n       <use style=\"stroke:#000000;stroke-width:0.8;\" x=\"36.465625\" xlink:href=\"#ma31fcdb73f\" y=\"69.778712\"/>\r\n      </g>\r\n     </g>\r\n     <g id=\"text_12\">\r\n      <!-- 0.60 -->\r\n      <g transform=\"translate(7.2 73.577931)scale(0.1 -0.1)\">\r\n       <use xlink:href=\"#DejaVuSans-48\"/>\r\n       <use x=\"63.623047\" xlink:href=\"#DejaVuSans-46\"/>\r\n       <use x=\"95.410156\" xlink:href=\"#DejaVuSans-54\"/>\r\n       <use x=\"159.033203\" xlink:href=\"#DejaVuSans-48\"/>\r\n      </g>\r\n     </g>\r\n    </g>\r\n    <g id=\"ytick_6\">\r\n     <g id=\"line2d_13\">\r\n      <g>\r\n       <use style=\"stroke:#000000;stroke-width:0.8;\" x=\"36.465625\" xlink:href=\"#ma31fcdb73f\" y=\"35.006317\"/>\r\n      </g>\r\n     </g>\r\n     <g id=\"text_13\">\r\n      <!-- 0.62 -->\r\n      <g transform=\"translate(7.2 38.805536)scale(0.1 -0.1)\">\r\n       <use xlink:href=\"#DejaVuSans-48\"/>\r\n       <use x=\"63.623047\" xlink:href=\"#DejaVuSans-46\"/>\r\n       <use x=\"95.410156\" xlink:href=\"#DejaVuSans-54\"/>\r\n       <use x=\"159.033203\" xlink:href=\"#DejaVuSans-50\"/>\r\n      </g>\r\n     </g>\r\n    </g>\r\n   </g>\r\n   <g id=\"line2d_14\">\r\n    <path clip-path=\"url(#p454afbc6b8)\" d=\"M 51.683807 17.083636 \r\nL 54.080371 75.58764 \r\nL 56.476935 80.578037 \r\nL 58.873499 66.228728 \r\nL 61.270063 72.593982 \r\nL 63.666627 83.540088 \r\nL 66.063191 78.719125 \r\nL 68.459755 85.485945 \r\nL 70.856319 80.9567 \r\nL 73.252883 78.195173 \r\nL 75.649447 82.432078 \r\nL 78.046012 85.774036 \r\nL 80.442576 74.685542 \r\nL 82.83914 65.767782 \r\nL 85.235704 83.005358 \r\nL 87.632268 81.470704 \r\nL 90.028832 83.412105 \r\nL 92.425396 82.413632 \r\nL 94.82196 83.971706 \r\nL 97.218524 87.237703 \r\nL 99.615088 85.934662 \r\nL 102.011652 87.140602 \r\nL 104.408216 66.821387 \r\nL 106.80478 66.353498 \r\nL 109.201344 84.787791 \r\nL 111.597908 87.664036 \r\nL 113.994473 82.293007 \r\nL 116.391037 85.688852 \r\nL 118.787601 88.261566 \r\nL 121.184165 88.602301 \r\nL 123.580729 86.419649 \r\nL 125.977293 88.848214 \r\nL 128.373857 84.446745 \r\nL 130.770421 85.85953 \r\nL 133.166985 90.92651 \r\nL 135.563549 86.099122 \r\nL 137.960113 86.684942 \r\nL 140.356677 92.981904 \r\nL 142.753241 85.995596 \r\nL 145.149805 84.307052 \r\nL 147.546369 79.501323 \r\nL 149.942934 77.959312 \r\nL 152.339498 80.193985 \r\nL 154.736062 83.652837 \r\nL 157.132626 75.057262 \r\nL 159.52919 83.249095 \r\nL 161.925754 82.202538 \r\nL 164.322318 84.996294 \r\nL 166.718882 85.760357 \r\nL 169.115446 74.373927 \r\nL 171.51201 83.817609 \r\nL 173.908574 89.098584 \r\nL 176.305138 86.343171 \r\nL 178.701702 87.679063 \r\nL 181.098266 88.308821 \r\nL 183.49483 90.0526 \r\nL 188.287959 89.886067 \r\nL 190.684523 86.087516 \r\nL 193.081087 52.187717 \r\nL 195.477651 84.593381 \r\nL 197.874215 81.596718 \r\nL 200.270779 85.069146 \r\nL 202.667343 89.627199 \r\nL 205.063907 91.249317 \r\nL 207.460471 88.697225 \r\nL 209.857035 90.871275 \r\nL 212.253599 95.054604 \r\nL 214.650163 78.890115 \r\nL 217.046727 85.451022 \r\nL 219.443291 88.41929 \r\nL 221.839855 80.485392 \r\nL 224.23642 87.468072 \r\nL 226.632984 89.668444 \r\nL 229.029548 91.196051 \r\nL 231.426112 94.317899 \r\nL 233.822676 88.133376 \r\nL 236.21924 91.082266 \r\nL 238.615804 86.744943 \r\nL 241.012368 88.300531 \r\nL 243.408932 92.786043 \r\nL 245.805496 90.807336 \r\nL 248.20206 91.936175 \r\nL 250.598624 90.219444 \r\nL 252.995188 88.807695 \r\nL 255.391752 93.757573 \r\nL 257.788316 93.714463 \r\nL 260.184881 93.946801 \r\nL 262.581445 92.13359 \r\nL 264.978009 85.365734 \r\nL 267.374573 91.129003 \r\nL 272.167701 96.445523 \r\nL 274.564265 92.340746 \r\nL 276.960829 97.433737 \r\nL 279.357393 92.710497 \r\nL 281.753957 83.46734 \r\nL 284.150521 92.039701 \r\nL 286.547085 92.980038 \r\nL 288.943649 86.893549 \r\nL 291.340213 95.553892 \r\nL 293.736777 96.458373 \r\nL 296.133342 96.155359 \r\nL 298.529906 95.445184 \r\nL 300.92647 95.230256 \r\nL 303.323034 96.520655 \r\nL 305.719598 98.867455 \r\nL 310.512726 85.688852 \r\nL 312.90929 95.621562 \r\nL 315.305854 98.458947 \r\nL 317.702418 94.566611 \r\nL 320.098982 100.726574 \r\nL 322.495546 97.338294 \r\nL 324.89211 98.268579 \r\nL 327.288674 101.922773 \r\nL 329.685238 102.286099 \r\nL 332.081803 96.951962 \r\nL 334.478367 100.947098 \r\nL 336.874931 99.852768 \r\nL 339.271495 96.258057 \r\nL 341.668059 102.00661 \r\nL 344.064623 94.641121 \r\nL 346.461187 94.25541 \r\nL 348.857751 89.146875 \r\nL 351.254315 101.430117 \r\nL 353.650879 103.079385 \r\nL 356.047443 99.704991 \r\nL 356.047443 99.704991 \r\n\" style=\"fill:none;stroke:#1f77b4;stroke-linecap:square;stroke-width:1.5;\"/>\r\n   </g>\r\n   <g id=\"line2d_15\">\r\n    <path clip-path=\"url(#p454afbc6b8)\" d=\"M 51.683807 182.675786 \r\nL 54.080371 199.020695 \r\nL 56.476935 158.515428 \r\nL 58.873499 137.793507 \r\nL 61.270063 191.344731 \r\nL 63.666627 206.684223 \r\nL 66.063191 200.809345 \r\nL 68.459755 164.477769 \r\nL 70.856319 177.468595 \r\nL 73.252883 171.645014 \r\nL 75.649447 196.589125 \r\nL 78.046012 165.394686 \r\nL 80.442576 142.281403 \r\nL 82.83914 143.93233 \r\nL 85.235704 181.128593 \r\nL 87.632268 174.500016 \r\nL 90.028832 207.281545 \r\nL 92.425396 214.756364 \r\nL 94.82196 205.108117 \r\nL 97.218524 169.849732 \r\nL 99.615088 184.305676 \r\nL 102.011652 165.328259 \r\nL 104.408216 136.601557 \r\nL 106.80478 149.440876 \r\nL 109.201344 194.302429 \r\nL 111.597908 208.903559 \r\nL 113.994473 212.180126 \r\nL 116.391037 206.95107 \r\nL 118.787601 204.754221 \r\nL 121.184165 166.572957 \r\nL 123.580729 189.798989 \r\nL 125.977293 204.13638 \r\nL 128.373857 171.757246 \r\nL 130.770421 195.557801 \r\nL 133.166985 208.451837 \r\nL 135.563549 214.282879 \r\nL 137.960113 204.215035 \r\nL 140.356677 180.875426 \r\nL 142.753241 188.079045 \r\nL 145.149805 189.895779 \r\nL 147.546369 188.844973 \r\nL 149.942934 192.189728 \r\nL 152.339498 194.237246 \r\nL 154.736062 186.84243 \r\nL 157.132626 154.703924 \r\nL 159.52919 184.527029 \r\nL 161.925754 171.732685 \r\nL 164.322318 193.467069 \r\nL 166.718882 170.516693 \r\nL 169.115446 155.383321 \r\nL 171.51201 191.895731 \r\nL 173.908574 207.609845 \r\nL 176.305138 209.791667 \r\nL 178.701702 205.485641 \r\nL 181.098266 206.436341 \r\nL 183.49483 202.65551 \r\nL 185.891395 169.477079 \r\nL 188.287959 192.596683 \r\nL 190.684523 140.430471 \r\nL 193.081087 133.189753 \r\nL 195.477651 201.758387 \r\nL 197.874215 208.390592 \r\nL 202.667343 201.943885 \r\nL 205.063907 203.55139 \r\nL 207.460471 208.212866 \r\nL 209.857035 198.423373 \r\nL 212.253599 162.661761 \r\nL 214.650163 149.865137 \r\nL 217.046727 185.835356 \r\nL 219.443291 166.344142 \r\nL 221.839855 156.691336 \r\nL 224.23642 192.423621 \r\nL 226.632984 201.326665 \r\nL 229.029548 198.46897 \r\nL 231.426112 187.262027 \r\nL 233.822676 160.372993 \r\nL 236.21924 176.805365 \r\nL 238.615804 163.184366 \r\nL 241.012368 190.219 \r\nL 243.408932 203.44517 \r\nL 245.805496 208.87817 \r\nL 248.20206 206.370328 \r\nL 250.598624 199.69491 \r\nL 252.995188 200.073263 \r\nL 255.391752 197.135772 \r\nL 257.788316 169.921962 \r\nL 260.184881 183.444719 \r\nL 262.581445 165.815734 \r\nL 264.978009 158.398534 \r\nL 267.374573 183.570112 \r\nL 269.771137 191.018401 \r\nL 272.167701 170.697113 \r\nL 274.564265 192.223719 \r\nL 276.960829 198.404823 \r\nL 279.357393 160.921609 \r\nL 281.753957 158.910569 \r\nL 284.150521 188.134279 \r\nL 286.547085 171.376613 \r\nL 288.943649 163.101565 \r\nL 291.340213 189.618984 \r\nL 293.736777 204.091301 \r\nL 296.133342 205.351647 \r\nL 298.529906 208.001047 \r\nL 300.92647 196.16932 \r\nL 303.323034 173.321641 \r\nL 305.719598 191.170736 \r\nL 308.116162 163.054518 \r\nL 310.512726 160.826373 \r\nL 312.90929 198.690737 \r\nL 315.305854 208.786561 \r\nL 317.702418 204.32623 \r\nL 320.098982 200.848517 \r\nL 322.495546 206.654896 \r\nL 324.89211 204.016274 \r\nL 327.288674 202.313739 \r\nL 329.685238 198.56006 \r\nL 332.081803 167.483345 \r\nL 334.478367 198.29912 \r\nL 336.874931 207.045995 \r\nL 339.271495 203.584448 \r\nL 341.668059 162.729431 \r\nL 344.064623 182.457024 \r\nL 346.461187 163.338152 \r\nL 348.857751 164.472692 \r\nL 351.254315 198.563584 \r\nL 353.650879 199.707139 \r\nL 356.047443 208.744176 \r\nL 356.047443 208.744176 \r\n\" style=\"fill:none;stroke:#ff7f0e;stroke-linecap:square;stroke-width:1.5;\"/>\r\n   </g>\r\n   <g id=\"patch_3\">\r\n    <path d=\"M 36.465625 224.64 \r\nL 36.465625 7.2 \r\n\" style=\"fill:none;stroke:#000000;stroke-linecap:square;stroke-linejoin:miter;stroke-width:0.8;\"/>\r\n   </g>\r\n   <g id=\"patch_4\">\r\n    <path d=\"M 371.265625 224.64 \r\nL 371.265625 7.2 \r\n\" style=\"fill:none;stroke:#000000;stroke-linecap:square;stroke-linejoin:miter;stroke-width:0.8;\"/>\r\n   </g>\r\n   <g id=\"patch_5\">\r\n    <path d=\"M 36.465625 224.64 \r\nL 371.265625 224.64 \r\n\" style=\"fill:none;stroke:#000000;stroke-linecap:square;stroke-linejoin:miter;stroke-width:0.8;\"/>\r\n   </g>\r\n   <g id=\"patch_6\">\r\n    <path d=\"M 36.465625 7.2 \r\nL 371.265625 7.2 \r\n\" style=\"fill:none;stroke:#000000;stroke-linecap:square;stroke-linejoin:miter;stroke-width:0.8;\"/>\r\n   </g>\r\n   <g id=\"legend_1\">\r\n    <g id=\"patch_7\">\r\n     <path d=\"M 293.125 44.834375 \r\nL 364.265625 44.834375 \r\nQ 366.265625 44.834375 366.265625 42.834375 \r\nL 366.265625 14.2 \r\nQ 366.265625 12.2 364.265625 12.2 \r\nL 293.125 12.2 \r\nQ 291.125 12.2 291.125 14.2 \r\nL 291.125 42.834375 \r\nQ 291.125 44.834375 293.125 44.834375 \r\nz\r\n\" style=\"fill:#ffffff;opacity:0.8;stroke:#cccccc;stroke-linejoin:miter;\"/>\r\n    </g>\r\n    <g id=\"line2d_16\">\r\n     <path d=\"M 295.125 20.298437 \r\nL 315.125 20.298437 \r\n\" style=\"fill:none;stroke:#1f77b4;stroke-linecap:square;stroke-width:1.5;\"/>\r\n    </g>\r\n    <g id=\"line2d_17\"/>\r\n    <g id=\"text_14\">\r\n     <!-- loss -->\r\n     <g transform=\"translate(323.125 23.798437)scale(0.1 -0.1)\">\r\n      <defs>\r\n       <path d=\"M 9.421875 75.984375 \r\nL 18.40625 75.984375 \r\nL 18.40625 0 \r\nL 9.421875 0 \r\nz\r\n\" id=\"DejaVuSans-108\"/>\r\n       <path d=\"M 30.609375 48.390625 \r\nQ 23.390625 48.390625 19.1875 42.75 \r\nQ 14.984375 37.109375 14.984375 27.296875 \r\nQ 14.984375 17.484375 19.15625 11.84375 \r\nQ 23.34375 6.203125 30.609375 6.203125 \r\nQ 37.796875 6.203125 41.984375 11.859375 \r\nQ 46.1875 17.53125 46.1875 27.296875 \r\nQ 46.1875 37.015625 41.984375 42.703125 \r\nQ 37.796875 48.390625 30.609375 48.390625 \r\nz\r\nM 30.609375 56 \r\nQ 42.328125 56 49.015625 48.375 \r\nQ 55.71875 40.765625 55.71875 27.296875 \r\nQ 55.71875 13.875 49.015625 6.21875 \r\nQ 42.328125 -1.421875 30.609375 -1.421875 \r\nQ 18.84375 -1.421875 12.171875 6.21875 \r\nQ 5.515625 13.875 5.515625 27.296875 \r\nQ 5.515625 40.765625 12.171875 48.375 \r\nQ 18.84375 56 30.609375 56 \r\nz\r\n\" id=\"DejaVuSans-111\"/>\r\n       <path d=\"M 44.28125 53.078125 \r\nL 44.28125 44.578125 \r\nQ 40.484375 46.53125 36.375 47.5 \r\nQ 32.28125 48.484375 27.875 48.484375 \r\nQ 21.1875 48.484375 17.84375 46.4375 \r\nQ 14.5 44.390625 14.5 40.28125 \r\nQ 14.5 37.15625 16.890625 35.375 \r\nQ 19.28125 33.59375 26.515625 31.984375 \r\nL 29.59375 31.296875 \r\nQ 39.15625 29.25 43.1875 25.515625 \r\nQ 47.21875 21.78125 47.21875 15.09375 \r\nQ 47.21875 7.46875 41.1875 3.015625 \r\nQ 35.15625 -1.421875 24.609375 -1.421875 \r\nQ 20.21875 -1.421875 15.453125 -0.5625 \r\nQ 10.6875 0.296875 5.421875 2 \r\nL 5.421875 11.28125 \r\nQ 10.40625 8.6875 15.234375 7.390625 \r\nQ 20.0625 6.109375 24.8125 6.109375 \r\nQ 31.15625 6.109375 34.5625 8.28125 \r\nQ 37.984375 10.453125 37.984375 14.40625 \r\nQ 37.984375 18.0625 35.515625 20.015625 \r\nQ 33.0625 21.96875 24.703125 23.78125 \r\nL 21.578125 24.515625 \r\nQ 13.234375 26.265625 9.515625 29.90625 \r\nQ 5.8125 33.546875 5.8125 39.890625 \r\nQ 5.8125 47.609375 11.28125 51.796875 \r\nQ 16.75 56 26.8125 56 \r\nQ 31.78125 56 36.171875 55.265625 \r\nQ 40.578125 54.546875 44.28125 53.078125 \r\nz\r\n\" id=\"DejaVuSans-115\"/>\r\n      </defs>\r\n      <use xlink:href=\"#DejaVuSans-108\"/>\r\n      <use x=\"27.783203\" xlink:href=\"#DejaVuSans-111\"/>\r\n      <use x=\"88.964844\" xlink:href=\"#DejaVuSans-115\"/>\r\n      <use x=\"141.064453\" xlink:href=\"#DejaVuSans-115\"/>\r\n     </g>\r\n    </g>\r\n    <g id=\"line2d_18\">\r\n     <path d=\"M 295.125 34.976562 \r\nL 315.125 34.976562 \r\n\" style=\"fill:none;stroke:#ff7f0e;stroke-linecap:square;stroke-width:1.5;\"/>\r\n    </g>\r\n    <g id=\"line2d_19\"/>\r\n    <g id=\"text_15\">\r\n     <!-- val_loss -->\r\n     <g transform=\"translate(323.125 38.476562)scale(0.1 -0.1)\">\r\n      <defs>\r\n       <path d=\"M 2.984375 54.6875 \r\nL 12.5 54.6875 \r\nL 29.59375 8.796875 \r\nL 46.6875 54.6875 \r\nL 56.203125 54.6875 \r\nL 35.6875 0 \r\nL 23.484375 0 \r\nz\r\n\" id=\"DejaVuSans-118\"/>\r\n       <path d=\"M 34.28125 27.484375 \r\nQ 23.390625 27.484375 19.1875 25 \r\nQ 14.984375 22.515625 14.984375 16.5 \r\nQ 14.984375 11.71875 18.140625 8.90625 \r\nQ 21.296875 6.109375 26.703125 6.109375 \r\nQ 34.1875 6.109375 38.703125 11.40625 \r\nQ 43.21875 16.703125 43.21875 25.484375 \r\nL 43.21875 27.484375 \r\nz\r\nM 52.203125 31.203125 \r\nL 52.203125 0 \r\nL 43.21875 0 \r\nL 43.21875 8.296875 \r\nQ 40.140625 3.328125 35.546875 0.953125 \r\nQ 30.953125 -1.421875 24.3125 -1.421875 \r\nQ 15.921875 -1.421875 10.953125 3.296875 \r\nQ 6 8.015625 6 15.921875 \r\nQ 6 25.140625 12.171875 29.828125 \r\nQ 18.359375 34.515625 30.609375 34.515625 \r\nL 43.21875 34.515625 \r\nL 43.21875 35.40625 \r\nQ 43.21875 41.609375 39.140625 45 \r\nQ 35.0625 48.390625 27.6875 48.390625 \r\nQ 23 48.390625 18.546875 47.265625 \r\nQ 14.109375 46.140625 10.015625 43.890625 \r\nL 10.015625 52.203125 \r\nQ 14.9375 54.109375 19.578125 55.046875 \r\nQ 24.21875 56 28.609375 56 \r\nQ 40.484375 56 46.34375 49.84375 \r\nQ 52.203125 43.703125 52.203125 31.203125 \r\nz\r\n\" id=\"DejaVuSans-97\"/>\r\n       <path d=\"M 50.984375 -16.609375 \r\nL 50.984375 -23.578125 \r\nL -0.984375 -23.578125 \r\nL -0.984375 -16.609375 \r\nz\r\n\" id=\"DejaVuSans-95\"/>\r\n      </defs>\r\n      <use xlink:href=\"#DejaVuSans-118\"/>\r\n      <use x=\"59.179688\" xlink:href=\"#DejaVuSans-97\"/>\r\n      <use x=\"120.458984\" xlink:href=\"#DejaVuSans-108\"/>\r\n      <use x=\"148.242188\" xlink:href=\"#DejaVuSans-95\"/>\r\n      <use x=\"198.242188\" xlink:href=\"#DejaVuSans-108\"/>\r\n      <use x=\"226.025391\" xlink:href=\"#DejaVuSans-111\"/>\r\n      <use x=\"287.207031\" xlink:href=\"#DejaVuSans-115\"/>\r\n      <use x=\"339.306641\" xlink:href=\"#DejaVuSans-115\"/>\r\n     </g>\r\n    </g>\r\n   </g>\r\n  </g>\r\n </g>\r\n <defs>\r\n  <clipPath id=\"p454afbc6b8\">\r\n   <rect height=\"217.44\" width=\"334.8\" x=\"36.465625\" y=\"7.2\"/>\r\n  </clipPath>\r\n </defs>\r\n</svg>\r\n",
      "image/png": "[encoded data removed]"
     },
     "metadata": {
      "needs_background": "light"
     }
    }
   ],
   "source": [
    "plt.plot(DFAnalysis['loss'],label='loss')\n",
    "plt.plot(DFAnalysis['val_loss'],label='val_loss')\n",
    "plt.legend()\n",
    "plt.show()"
   ]
  },
  {
   "cell_type": "code",
   "execution_count": 184,
   "metadata": {},
   "outputs": [
    {
     "output_type": "stream",
     "name": "stdout",
     "text": [
      "[[  3  50]\n [  2 142]]\n"
     ]
    },
    {
     "output_type": "display_data",
     "data": {
      "text/plain": "<Figure size 432x288 with 2 Axes>",
      "image/svg+xml": "<?xml version=\"1.0\" encoding=\"utf-8\" standalone=\"no\"?>\r\n<!DOCTYPE svg PUBLIC \"-//W3C//DTD SVG 1.1//EN\"\r\n  \"http://www.w3.org/Graphics/SVG/1.1/DTD/svg11.dtd\">\r\n<!-- Created with matplotlib (https://matplotlib.org/) -->\r\n<svg height=\"249.211058pt\" version=\"1.1\" viewBox=\"0 0 352.617625 249.211058\" width=\"352.617625pt\" xmlns=\"http://www.w3.org/2000/svg\" xmlns:xlink=\"http://www.w3.org/1999/xlink\">\r\n <metadata>\r\n  <rdf:RDF xmlns:cc=\"http://creativecommons.org/ns#\" xmlns:dc=\"http://purl.org/dc/elements/1.1/\" xmlns:rdf=\"http://www.w3.org/1999/02/22-rdf-syntax-ns#\">\r\n   <cc:Work>\r\n    <dc:type rdf:resource=\"http://purl.org/dc/dcmitype/StillImage\"/>\r\n    <dc:date>2020-11-18T00:04:17.748377</dc:date>\r\n    <dc:format>image/svg+xml</dc:format>\r\n    <dc:creator>\r\n     <cc:Agent>\r\n      <dc:title>Matplotlib v3.3.2, https://matplotlib.org/</dc:title>\r\n     </cc:Agent>\r\n    </dc:creator>\r\n   </cc:Work>\r\n  </rdf:RDF>\r\n </metadata>\r\n <defs>\r\n  <style type=\"text/css\">*{stroke-linecap:butt;stroke-linejoin:round;}</style>\r\n </defs>\r\n <g id=\"figure_1\">\r\n  <g id=\"patch_1\">\r\n   <path d=\"M -0 249.211058 \r\nL 352.617625 249.211058 \r\nL 352.617625 0 \r\nL -0 0 \r\nz\r\n\" style=\"fill:none;\"/>\r\n  </g>\r\n  <g id=\"axes_1\">\r\n   <g id=\"patch_2\">\r\n    <path d=\"M 23.878125 225.332933 \r\nL 291.718125 225.332933 \r\nL 291.718125 7.892933 \r\nL 23.878125 7.892933 \r\nz\r\n\" style=\"fill:#ffffff;\"/>\r\n   </g>\r\n   <g id=\"QuadMesh_1\">\r\n    <path clip-path=\"url(#p1457e269a8)\" d=\"M 23.878125 7.892933 \r\nL 157.798125 7.892933 \r\nL 157.798125 116.612933 \r\nL 23.878125 116.612933 \r\nL 23.878125 7.892933 \r\n\" style=\"fill:#f6faff;\"/>\r\n    <path clip-path=\"url(#p1457e269a8)\" d=\"M 157.798125 7.892933 \r\nL 291.718125 7.892933 \r\nL 291.718125 116.612933 \r\nL 157.798125 116.612933 \r\nL 157.798125 7.892933 \r\n\" style=\"fill:#a9cfe5;\"/>\r\n    <path clip-path=\"url(#p1457e269a8)\" d=\"M 23.878125 116.612933 \r\nL 157.798125 116.612933 \r\nL 157.798125 225.332933 \r\nL 23.878125 225.332933 \r\nL 23.878125 116.612933 \r\n\" style=\"fill:#f7fbff;\"/>\r\n    <path clip-path=\"url(#p1457e269a8)\" d=\"M 157.798125 116.612933 \r\nL 291.718125 116.612933 \r\nL 291.718125 225.332933 \r\nL 157.798125 225.332933 \r\nL 157.798125 116.612933 \r\n\" style=\"fill:#08306b;\"/>\r\n   </g>\r\n   <g id=\"matplotlib.axis_1\">\r\n    <g id=\"xtick_1\">\r\n     <g id=\"line2d_1\">\r\n      <defs>\r\n       <path d=\"M 0 0 \r\nL 0 3.5 \r\n\" id=\"m2d06af0ab4\" style=\"stroke:#000000;stroke-width:0.8;\"/>\r\n      </defs>\r\n      <g>\r\n       <use style=\"stroke:#000000;stroke-width:0.8;\" x=\"90.838125\" xlink:href=\"#m2d06af0ab4\" y=\"225.332933\"/>\r\n      </g>\r\n     </g>\r\n     <g id=\"text_1\">\r\n      <!-- 0 -->\r\n      <g transform=\"translate(87.656875 239.931371)scale(0.1 -0.1)\">\r\n       <defs>\r\n        <path d=\"M 31.78125 66.40625 \r\nQ 24.171875 66.40625 20.328125 58.90625 \r\nQ 16.5 51.421875 16.5 36.375 \r\nQ 16.5 21.390625 20.328125 13.890625 \r\nQ 24.171875 6.390625 31.78125 6.390625 \r\nQ 39.453125 6.390625 43.28125 13.890625 \r\nQ 47.125 21.390625 47.125 36.375 \r\nQ 47.125 51.421875 43.28125 58.90625 \r\nQ 39.453125 66.40625 31.78125 66.40625 \r\nz\r\nM 31.78125 74.21875 \r\nQ 44.046875 74.21875 50.515625 64.515625 \r\nQ 56.984375 54.828125 56.984375 36.375 \r\nQ 56.984375 17.96875 50.515625 8.265625 \r\nQ 44.046875 -1.421875 31.78125 -1.421875 \r\nQ 19.53125 -1.421875 13.0625 8.265625 \r\nQ 6.59375 17.96875 6.59375 36.375 \r\nQ 6.59375 54.828125 13.0625 64.515625 \r\nQ 19.53125 74.21875 31.78125 74.21875 \r\nz\r\n\" id=\"DejaVuSans-48\"/>\r\n       </defs>\r\n       <use xlink:href=\"#DejaVuSans-48\"/>\r\n      </g>\r\n     </g>\r\n    </g>\r\n    <g id=\"xtick_2\">\r\n     <g id=\"line2d_2\">\r\n      <g>\r\n       <use style=\"stroke:#000000;stroke-width:0.8;\" x=\"224.758125\" xlink:href=\"#m2d06af0ab4\" y=\"225.332933\"/>\r\n      </g>\r\n     </g>\r\n     <g id=\"text_2\">\r\n      <!-- 1 -->\r\n      <g transform=\"translate(221.576875 239.931371)scale(0.1 -0.1)\">\r\n       <defs>\r\n        <path d=\"M 12.40625 8.296875 \r\nL 28.515625 8.296875 \r\nL 28.515625 63.921875 \r\nL 10.984375 60.40625 \r\nL 10.984375 69.390625 \r\nL 28.421875 72.90625 \r\nL 38.28125 72.90625 \r\nL 38.28125 8.296875 \r\nL 54.390625 8.296875 \r\nL 54.390625 0 \r\nL 12.40625 0 \r\nz\r\n\" id=\"DejaVuSans-49\"/>\r\n       </defs>\r\n       <use xlink:href=\"#DejaVuSans-49\"/>\r\n      </g>\r\n     </g>\r\n    </g>\r\n   </g>\r\n   <g id=\"matplotlib.axis_2\">\r\n    <g id=\"ytick_1\">\r\n     <g id=\"line2d_3\">\r\n      <defs>\r\n       <path d=\"M 0 0 \r\nL -3.5 0 \r\n\" id=\"meaf5ac17b4\" style=\"stroke:#000000;stroke-width:0.8;\"/>\r\n      </defs>\r\n      <g>\r\n       <use style=\"stroke:#000000;stroke-width:0.8;\" x=\"23.878125\" xlink:href=\"#meaf5ac17b4\" y=\"62.252933\"/>\r\n      </g>\r\n     </g>\r\n     <g id=\"text_3\">\r\n      <!-- 0 -->\r\n      <g transform=\"translate(14.798438 64.816214)rotate(-90)scale(0.1 -0.1)\">\r\n       <use xlink:href=\"#DejaVuSans-48\"/>\r\n      </g>\r\n     </g>\r\n    </g>\r\n    <g id=\"ytick_2\">\r\n     <g id=\"line2d_4\">\r\n      <g>\r\n       <use style=\"stroke:#000000;stroke-width:0.8;\" x=\"23.878125\" xlink:href=\"#meaf5ac17b4\" y=\"170.972933\"/>\r\n      </g>\r\n     </g>\r\n     <g id=\"text_4\">\r\n      <!-- 1 -->\r\n      <g transform=\"translate(14.798438 173.536214)rotate(-90)scale(0.1 -0.1)\">\r\n       <use xlink:href=\"#DejaVuSans-49\"/>\r\n      </g>\r\n     </g>\r\n    </g>\r\n   </g>\r\n   <g id=\"text_5\">\r\n    <!-- 3 -->\r\n    <g style=\"fill:#262626;\" transform=\"translate(87.656875 65.012308)scale(0.1 -0.1)\">\r\n     <defs>\r\n      <path d=\"M 40.578125 39.3125 \r\nQ 47.65625 37.796875 51.625 33 \r\nQ 55.609375 28.21875 55.609375 21.1875 \r\nQ 55.609375 10.40625 48.1875 4.484375 \r\nQ 40.765625 -1.421875 27.09375 -1.421875 \r\nQ 22.515625 -1.421875 17.65625 -0.515625 \r\nQ 12.796875 0.390625 7.625 2.203125 \r\nL 7.625 11.71875 \r\nQ 11.71875 9.328125 16.59375 8.109375 \r\nQ 21.484375 6.890625 26.8125 6.890625 \r\nQ 36.078125 6.890625 40.9375 10.546875 \r\nQ 45.796875 14.203125 45.796875 21.1875 \r\nQ 45.796875 27.640625 41.28125 31.265625 \r\nQ 36.765625 34.90625 28.71875 34.90625 \r\nL 20.21875 34.90625 \r\nL 20.21875 43.015625 \r\nL 29.109375 43.015625 \r\nQ 36.375 43.015625 40.234375 45.921875 \r\nQ 44.09375 48.828125 44.09375 54.296875 \r\nQ 44.09375 59.90625 40.109375 62.90625 \r\nQ 36.140625 65.921875 28.71875 65.921875 \r\nQ 24.65625 65.921875 20.015625 65.03125 \r\nQ 15.375 64.15625 9.8125 62.3125 \r\nL 9.8125 71.09375 \r\nQ 15.4375 72.65625 20.34375 73.4375 \r\nQ 25.25 74.21875 29.59375 74.21875 \r\nQ 40.828125 74.21875 47.359375 69.109375 \r\nQ 53.90625 64.015625 53.90625 55.328125 \r\nQ 53.90625 49.265625 50.4375 45.09375 \r\nQ 46.96875 40.921875 40.578125 39.3125 \r\nz\r\n\" id=\"DejaVuSans-51\"/>\r\n     </defs>\r\n     <use xlink:href=\"#DejaVuSans-51\"/>\r\n    </g>\r\n   </g>\r\n   <g id=\"text_6\">\r\n    <!-- 50 -->\r\n    <g style=\"fill:#262626;\" transform=\"translate(218.395625 65.012308)scale(0.1 -0.1)\">\r\n     <defs>\r\n      <path d=\"M 10.796875 72.90625 \r\nL 49.515625 72.90625 \r\nL 49.515625 64.59375 \r\nL 19.828125 64.59375 \r\nL 19.828125 46.734375 \r\nQ 21.96875 47.46875 24.109375 47.828125 \r\nQ 26.265625 48.1875 28.421875 48.1875 \r\nQ 40.625 48.1875 47.75 41.5 \r\nQ 54.890625 34.8125 54.890625 23.390625 \r\nQ 54.890625 11.625 47.5625 5.09375 \r\nQ 40.234375 -1.421875 26.90625 -1.421875 \r\nQ 22.3125 -1.421875 17.546875 -0.640625 \r\nQ 12.796875 0.140625 7.71875 1.703125 \r\nL 7.71875 11.625 \r\nQ 12.109375 9.234375 16.796875 8.0625 \r\nQ 21.484375 6.890625 26.703125 6.890625 \r\nQ 35.15625 6.890625 40.078125 11.328125 \r\nQ 45.015625 15.765625 45.015625 23.390625 \r\nQ 45.015625 31 40.078125 35.4375 \r\nQ 35.15625 39.890625 26.703125 39.890625 \r\nQ 22.75 39.890625 18.8125 39.015625 \r\nQ 14.890625 38.140625 10.796875 36.28125 \r\nz\r\n\" id=\"DejaVuSans-53\"/>\r\n     </defs>\r\n     <use xlink:href=\"#DejaVuSans-53\"/>\r\n     <use x=\"63.623047\" xlink:href=\"#DejaVuSans-48\"/>\r\n    </g>\r\n   </g>\r\n   <g id=\"text_7\">\r\n    <!-- 2 -->\r\n    <g style=\"fill:#262626;\" transform=\"translate(87.656875 173.732308)scale(0.1 -0.1)\">\r\n     <defs>\r\n      <path d=\"M 19.1875 8.296875 \r\nL 53.609375 8.296875 \r\nL 53.609375 0 \r\nL 7.328125 0 \r\nL 7.328125 8.296875 \r\nQ 12.9375 14.109375 22.625 23.890625 \r\nQ 32.328125 33.6875 34.8125 36.53125 \r\nQ 39.546875 41.84375 41.421875 45.53125 \r\nQ 43.3125 49.21875 43.3125 52.78125 \r\nQ 43.3125 58.59375 39.234375 62.25 \r\nQ 35.15625 65.921875 28.609375 65.921875 \r\nQ 23.96875 65.921875 18.8125 64.3125 \r\nQ 13.671875 62.703125 7.8125 59.421875 \r\nL 7.8125 69.390625 \r\nQ 13.765625 71.78125 18.9375 73 \r\nQ 24.125 74.21875 28.421875 74.21875 \r\nQ 39.75 74.21875 46.484375 68.546875 \r\nQ 53.21875 62.890625 53.21875 53.421875 \r\nQ 53.21875 48.921875 51.53125 44.890625 \r\nQ 49.859375 40.875 45.40625 35.40625 \r\nQ 44.1875 33.984375 37.640625 27.21875 \r\nQ 31.109375 20.453125 19.1875 8.296875 \r\nz\r\n\" id=\"DejaVuSans-50\"/>\r\n     </defs>\r\n     <use xlink:href=\"#DejaVuSans-50\"/>\r\n    </g>\r\n   </g>\r\n   <g id=\"text_8\">\r\n    <!-- 1.4e+02 -->\r\n    <g style=\"fill:#ffffff;\" transform=\"translate(203.177656 173.732308)scale(0.1 -0.1)\">\r\n     <defs>\r\n      <path d=\"M 10.6875 12.40625 \r\nL 21 12.40625 \r\nL 21 0 \r\nL 10.6875 0 \r\nz\r\n\" id=\"DejaVuSans-46\"/>\r\n      <path d=\"M 37.796875 64.3125 \r\nL 12.890625 25.390625 \r\nL 37.796875 25.390625 \r\nz\r\nM 35.203125 72.90625 \r\nL 47.609375 72.90625 \r\nL 47.609375 25.390625 \r\nL 58.015625 25.390625 \r\nL 58.015625 17.1875 \r\nL 47.609375 17.1875 \r\nL 47.609375 0 \r\nL 37.796875 0 \r\nL 37.796875 17.1875 \r\nL 4.890625 17.1875 \r\nL 4.890625 26.703125 \r\nz\r\n\" id=\"DejaVuSans-52\"/>\r\n      <path d=\"M 56.203125 29.59375 \r\nL 56.203125 25.203125 \r\nL 14.890625 25.203125 \r\nQ 15.484375 15.921875 20.484375 11.0625 \r\nQ 25.484375 6.203125 34.421875 6.203125 \r\nQ 39.59375 6.203125 44.453125 7.46875 \r\nQ 49.3125 8.734375 54.109375 11.28125 \r\nL 54.109375 2.78125 \r\nQ 49.265625 0.734375 44.1875 -0.34375 \r\nQ 39.109375 -1.421875 33.890625 -1.421875 \r\nQ 20.796875 -1.421875 13.15625 6.1875 \r\nQ 5.515625 13.8125 5.515625 26.8125 \r\nQ 5.515625 40.234375 12.765625 48.109375 \r\nQ 20.015625 56 32.328125 56 \r\nQ 43.359375 56 49.78125 48.890625 \r\nQ 56.203125 41.796875 56.203125 29.59375 \r\nz\r\nM 47.21875 32.234375 \r\nQ 47.125 39.59375 43.09375 43.984375 \r\nQ 39.0625 48.390625 32.421875 48.390625 \r\nQ 24.90625 48.390625 20.390625 44.140625 \r\nQ 15.875 39.890625 15.1875 32.171875 \r\nz\r\n\" id=\"DejaVuSans-101\"/>\r\n      <path d=\"M 46 62.703125 \r\nL 46 35.5 \r\nL 73.1875 35.5 \r\nL 73.1875 27.203125 \r\nL 46 27.203125 \r\nL 46 0 \r\nL 37.796875 0 \r\nL 37.796875 27.203125 \r\nL 10.59375 27.203125 \r\nL 10.59375 35.5 \r\nL 37.796875 35.5 \r\nL 37.796875 62.703125 \r\nz\r\n\" id=\"DejaVuSans-43\"/>\r\n     </defs>\r\n     <use xlink:href=\"#DejaVuSans-49\"/>\r\n     <use x=\"63.623047\" xlink:href=\"#DejaVuSans-46\"/>\r\n     <use x=\"95.410156\" xlink:href=\"#DejaVuSans-52\"/>\r\n     <use x=\"159.033203\" xlink:href=\"#DejaVuSans-101\"/>\r\n     <use x=\"220.556641\" xlink:href=\"#DejaVuSans-43\"/>\r\n     <use x=\"304.345703\" xlink:href=\"#DejaVuSans-48\"/>\r\n     <use x=\"367.96875\" xlink:href=\"#DejaVuSans-50\"/>\r\n    </g>\r\n   </g>\r\n  </g>\r\n  <g id=\"axes_2\">\r\n   <g id=\"patch_3\">\r\n    <path clip-path=\"url(#p319a78c550)\" d=\"M 308.458125 225.332933 \r\nL 308.458125 224.483558 \r\nL 308.458125 8.742308 \r\nL 308.458125 7.892933 \r\nL 319.330125 7.892933 \r\nL 319.330125 8.742308 \r\nL 319.330125 224.483558 \r\nL 319.330125 225.332933 \r\nz\r\n\" style=\"fill:#ffffff;stroke:#ffffff;stroke-linejoin:miter;stroke-width:0.01;\"/>\r\n   </g>\r\n   <image height=\"217\" id=\"imagebb47c3a35e\" transform=\"scale(1 -1)translate(0 -217)\" width=\"11\" x=\"308\" xlink:href=\"data:image/png;base64,\r\niVBORw0KGgoAAAANSUhEUgAAAAsAAADZCAYAAAD2WsoCAAABG0lEQVR4nO2YMQ5DIQxDqcT9j9uh+oSu7cYbnmQQna3IcRyH39f7M2db/PXZlrGtA2zrANt6rVM2aQAWUDpWOYTGOhYPBXAuUtmj4Uk3iflNGqiytbBo3CHxlbKwG0p3fPJf8/+Difk9GhnSDTH5rQvrxRdTIyNFi+lscUY0Ql4ycNwWjdIqm+YHlU01AHiAlGGbwuIrY60eogbjrJ1jVBmBvTsYYiRm/vXC6k3RjPSADvcMc7bdEeYXD72WdV58ed8pW3rDM7/4jI/wRoj5QypXrSd0CmdmpDvuHzBUIyIYxVfBOLxBtN3sXzXRGxo4w/whOp/vjYxxh3gDHvoIzoxGDQBmDaJN8SoT8PlqeN5AOt9x51X2xm01+AXeLt0TcCgzLwAAAABJRU5ErkJggg==\" y=\"-8\"/>\r\n   <g id=\"matplotlib.axis_3\"/>\r\n   <g id=\"matplotlib.axis_4\">\r\n    <g id=\"ytick_3\">\r\n     <g id=\"line2d_5\">\r\n      <defs>\r\n       <path d=\"M 0 0 \r\nL 3.5 0 \r\n\" id=\"m6db2eb33d2\" style=\"stroke:#000000;stroke-width:0.8;\"/>\r\n      </defs>\r\n      <g>\r\n       <use style=\"stroke:#000000;stroke-width:0.8;\" x=\"319.330125\" xlink:href=\"#m6db2eb33d2\" y=\"197.376362\"/>\r\n      </g>\r\n     </g>\r\n     <g id=\"text_9\">\r\n      <!-- 20 -->\r\n      <g transform=\"translate(326.330125 201.17558)scale(0.1 -0.1)\">\r\n       <use xlink:href=\"#DejaVuSans-50\"/>\r\n       <use x=\"63.623047\" xlink:href=\"#DejaVuSans-48\"/>\r\n      </g>\r\n     </g>\r\n    </g>\r\n    <g id=\"ytick_4\">\r\n     <g id=\"line2d_6\">\r\n      <g>\r\n       <use style=\"stroke:#000000;stroke-width:0.8;\" x=\"319.330125\" xlink:href=\"#m6db2eb33d2\" y=\"166.313504\"/>\r\n      </g>\r\n     </g>\r\n     <g id=\"text_10\">\r\n      <!-- 40 -->\r\n      <g transform=\"translate(326.330125 170.112723)scale(0.1 -0.1)\">\r\n       <use xlink:href=\"#DejaVuSans-52\"/>\r\n       <use x=\"63.623047\" xlink:href=\"#DejaVuSans-48\"/>\r\n      </g>\r\n     </g>\r\n    </g>\r\n    <g id=\"ytick_5\">\r\n     <g id=\"line2d_7\">\r\n      <g>\r\n       <use style=\"stroke:#000000;stroke-width:0.8;\" x=\"319.330125\" xlink:href=\"#m6db2eb33d2\" y=\"135.250647\"/>\r\n      </g>\r\n     </g>\r\n     <g id=\"text_11\">\r\n      <!-- 60 -->\r\n      <g transform=\"translate(326.330125 139.049866)scale(0.1 -0.1)\">\r\n       <defs>\r\n        <path d=\"M 33.015625 40.375 \r\nQ 26.375 40.375 22.484375 35.828125 \r\nQ 18.609375 31.296875 18.609375 23.390625 \r\nQ 18.609375 15.53125 22.484375 10.953125 \r\nQ 26.375 6.390625 33.015625 6.390625 \r\nQ 39.65625 6.390625 43.53125 10.953125 \r\nQ 47.40625 15.53125 47.40625 23.390625 \r\nQ 47.40625 31.296875 43.53125 35.828125 \r\nQ 39.65625 40.375 33.015625 40.375 \r\nz\r\nM 52.59375 71.296875 \r\nL 52.59375 62.3125 \r\nQ 48.875 64.0625 45.09375 64.984375 \r\nQ 41.3125 65.921875 37.59375 65.921875 \r\nQ 27.828125 65.921875 22.671875 59.328125 \r\nQ 17.53125 52.734375 16.796875 39.40625 \r\nQ 19.671875 43.65625 24.015625 45.921875 \r\nQ 28.375 48.1875 33.59375 48.1875 \r\nQ 44.578125 48.1875 50.953125 41.515625 \r\nQ 57.328125 34.859375 57.328125 23.390625 \r\nQ 57.328125 12.15625 50.6875 5.359375 \r\nQ 44.046875 -1.421875 33.015625 -1.421875 \r\nQ 20.359375 -1.421875 13.671875 8.265625 \r\nQ 6.984375 17.96875 6.984375 36.375 \r\nQ 6.984375 53.65625 15.1875 63.9375 \r\nQ 23.390625 74.21875 37.203125 74.21875 \r\nQ 40.921875 74.21875 44.703125 73.484375 \r\nQ 48.484375 72.75 52.59375 71.296875 \r\nz\r\n\" id=\"DejaVuSans-54\"/>\r\n       </defs>\r\n       <use xlink:href=\"#DejaVuSans-54\"/>\r\n       <use x=\"63.623047\" xlink:href=\"#DejaVuSans-48\"/>\r\n      </g>\r\n     </g>\r\n    </g>\r\n    <g id=\"ytick_6\">\r\n     <g id=\"line2d_8\">\r\n      <g>\r\n       <use style=\"stroke:#000000;stroke-width:0.8;\" x=\"319.330125\" xlink:href=\"#m6db2eb33d2\" y=\"104.18779\"/>\r\n      </g>\r\n     </g>\r\n     <g id=\"text_12\">\r\n      <!-- 80 -->\r\n      <g transform=\"translate(326.330125 107.987009)scale(0.1 -0.1)\">\r\n       <defs>\r\n        <path d=\"M 31.78125 34.625 \r\nQ 24.75 34.625 20.71875 30.859375 \r\nQ 16.703125 27.09375 16.703125 20.515625 \r\nQ 16.703125 13.921875 20.71875 10.15625 \r\nQ 24.75 6.390625 31.78125 6.390625 \r\nQ 38.8125 6.390625 42.859375 10.171875 \r\nQ 46.921875 13.96875 46.921875 20.515625 \r\nQ 46.921875 27.09375 42.890625 30.859375 \r\nQ 38.875 34.625 31.78125 34.625 \r\nz\r\nM 21.921875 38.8125 \r\nQ 15.578125 40.375 12.03125 44.71875 \r\nQ 8.5 49.078125 8.5 55.328125 \r\nQ 8.5 64.0625 14.71875 69.140625 \r\nQ 20.953125 74.21875 31.78125 74.21875 \r\nQ 42.671875 74.21875 48.875 69.140625 \r\nQ 55.078125 64.0625 55.078125 55.328125 \r\nQ 55.078125 49.078125 51.53125 44.71875 \r\nQ 48 40.375 41.703125 38.8125 \r\nQ 48.828125 37.15625 52.796875 32.3125 \r\nQ 56.78125 27.484375 56.78125 20.515625 \r\nQ 56.78125 9.90625 50.3125 4.234375 \r\nQ 43.84375 -1.421875 31.78125 -1.421875 \r\nQ 19.734375 -1.421875 13.25 4.234375 \r\nQ 6.78125 9.90625 6.78125 20.515625 \r\nQ 6.78125 27.484375 10.78125 32.3125 \r\nQ 14.796875 37.15625 21.921875 38.8125 \r\nz\r\nM 18.3125 54.390625 \r\nQ 18.3125 48.734375 21.84375 45.5625 \r\nQ 25.390625 42.390625 31.78125 42.390625 \r\nQ 38.140625 42.390625 41.71875 45.5625 \r\nQ 45.3125 48.734375 45.3125 54.390625 \r\nQ 45.3125 60.0625 41.71875 63.234375 \r\nQ 38.140625 66.40625 31.78125 66.40625 \r\nQ 25.390625 66.40625 21.84375 63.234375 \r\nQ 18.3125 60.0625 18.3125 54.390625 \r\nz\r\n\" id=\"DejaVuSans-56\"/>\r\n       </defs>\r\n       <use xlink:href=\"#DejaVuSans-56\"/>\r\n       <use x=\"63.623047\" xlink:href=\"#DejaVuSans-48\"/>\r\n      </g>\r\n     </g>\r\n    </g>\r\n    <g id=\"ytick_7\">\r\n     <g id=\"line2d_9\">\r\n      <g>\r\n       <use style=\"stroke:#000000;stroke-width:0.8;\" x=\"319.330125\" xlink:href=\"#m6db2eb33d2\" y=\"73.124933\"/>\r\n      </g>\r\n     </g>\r\n     <g id=\"text_13\">\r\n      <!-- 100 -->\r\n      <g transform=\"translate(326.330125 76.924152)scale(0.1 -0.1)\">\r\n       <use xlink:href=\"#DejaVuSans-49\"/>\r\n       <use x=\"63.623047\" xlink:href=\"#DejaVuSans-48\"/>\r\n       <use x=\"127.246094\" xlink:href=\"#DejaVuSans-48\"/>\r\n      </g>\r\n     </g>\r\n    </g>\r\n    <g id=\"ytick_8\">\r\n     <g id=\"line2d_10\">\r\n      <g>\r\n       <use style=\"stroke:#000000;stroke-width:0.8;\" x=\"319.330125\" xlink:href=\"#m6db2eb33d2\" y=\"42.062076\"/>\r\n      </g>\r\n     </g>\r\n     <g id=\"text_14\">\r\n      <!-- 120 -->\r\n      <g transform=\"translate(326.330125 45.861295)scale(0.1 -0.1)\">\r\n       <use xlink:href=\"#DejaVuSans-49\"/>\r\n       <use x=\"63.623047\" xlink:href=\"#DejaVuSans-50\"/>\r\n       <use x=\"127.246094\" xlink:href=\"#DejaVuSans-48\"/>\r\n      </g>\r\n     </g>\r\n    </g>\r\n    <g id=\"ytick_9\">\r\n     <g id=\"line2d_11\">\r\n      <g>\r\n       <use style=\"stroke:#000000;stroke-width:0.8;\" x=\"319.330125\" xlink:href=\"#m6db2eb33d2\" y=\"10.999219\"/>\r\n      </g>\r\n     </g>\r\n     <g id=\"text_15\">\r\n      <!-- 140 -->\r\n      <g transform=\"translate(326.330125 14.798437)scale(0.1 -0.1)\">\r\n       <use xlink:href=\"#DejaVuSans-49\"/>\r\n       <use x=\"63.623047\" xlink:href=\"#DejaVuSans-52\"/>\r\n       <use x=\"127.246094\" xlink:href=\"#DejaVuSans-48\"/>\r\n      </g>\r\n     </g>\r\n    </g>\r\n   </g>\r\n   <g id=\"patch_4\">\r\n    <path d=\"M 308.458125 225.332933 \r\nL 308.458125 224.483558 \r\nL 308.458125 8.742308 \r\nL 308.458125 7.892933 \r\nL 319.330125 7.892933 \r\nL 319.330125 8.742308 \r\nL 319.330125 224.483558 \r\nL 319.330125 225.332933 \r\nz\r\n\" style=\"fill:none;\"/>\r\n   </g>\r\n  </g>\r\n </g>\r\n <defs>\r\n  <clipPath id=\"p1457e269a8\">\r\n   <rect height=\"217.44\" width=\"267.84\" x=\"23.878125\" y=\"7.892933\"/>\r\n  </clipPath>\r\n  <clipPath id=\"p319a78c550\">\r\n   <rect height=\"217.44\" width=\"10.872\" x=\"308.458125\" y=\"7.892933\"/>\r\n  </clipPath>\r\n </defs>\r\n</svg>\r\n",
      "image/png": "[encoded data removed]"
     },
     "metadata": {
      "needs_background": "light"
     }
    }
   ],
   "source": [
    "Y_pred = model.predict(Xtest)\n",
    "Y_pred = np.argmax(Y_pred,axis=-1)\n",
    "import seaborn as sns\n",
    "cf_matrix = confusion_matrix(Ytest, Y_pred)\n",
    "print(cf_matrix)\n",
    "sns.heatmap(cf_matrix, annot=True, cmap='Blues')\n",
    "plt.show()"
   ]
  },
  {
   "cell_type": "code",
   "execution_count": null,
   "metadata": {},
   "outputs": [],
   "source": []
  }
 ]
}