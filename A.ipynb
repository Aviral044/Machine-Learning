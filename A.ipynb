{
 "metadata": {
  "language_info": {
   "codemirror_mode": {
    "name": "ipython",
    "version": 3
   },
   "file_extension": ".py",
   "mimetype": "text/x-python",
   "name": "python",
   "nbconvert_exporter": "python",
   "pygments_lexer": "ipython3",
   "version": "3.8.6-final"
  },
  "orig_nbformat": 2,
  "kernelspec": {
   "name": "Python 3.8.6 64-bit",
   "display_name": "Python 3.8.6 64-bit",
   "metadata": {
    "interpreter": {
     "hash": "b019b0c2015067b130b98b754c51174010d3ce83f9571e8f101e283583bac7bf"
    }
   }
  }
 },
 "nbformat": 4,
 "nbformat_minor": 2,
 "cells": [
  {
   "cell_type": "code",
   "execution_count": 34,
   "metadata": {
    "tags": []
   },
   "outputs": [
    {
     "output_type": "stream",
     "name": "stdout",
     "text": "[[1 2 3 4 5]\n [5 4 3 2 1]]\n"
    }
   ],
   "source": [
    "import numpy as np\n",
    "arr=np.array([[1,2,3,4,5],[5,4,3,2,1]])\n",
    "print (arr)"
   ]
  },
  {
   "cell_type": "code",
   "execution_count": 14,
   "metadata": {},
   "outputs": [
    {
     "output_type": "execute_result",
     "data": {
      "text/plain": "array([[1, 2, 3, 4, 5],\n       [5, 4, 3, 2, 1]])"
     },
     "metadata": {},
     "execution_count": 14
    }
   ],
   "source": [
    "x=((1,2,3,4,5),(5,4,3,2,1))\n",
    "np_x=np.array(x)\n",
    "np_x"
   ]
  },
  {
   "cell_type": "code",
   "execution_count": 19,
   "metadata": {},
   "outputs": [
    {
     "output_type": "execute_result",
     "data": {
      "text/plain": "2"
     },
     "metadata": {},
     "execution_count": 19
    }
   ],
   "source": [
    "np_x.ndim"
   ]
  },
  {
   "cell_type": "code",
   "execution_count": 3,
   "metadata": {
    "tags": []
   },
   "outputs": [
    {
     "output_type": "stream",
     "name": "stdout",
     "text": "2\n(3, 4)\n"
    }
   ],
   "source": [
    "arr=np.array([[1,2,3,4],[5,6,7,8],[3,4,5,6]])\n",
    "print(arr.ndim)\n",
    "print(arr.shape)"
   ]
  },
  {
   "cell_type": "code",
   "execution_count": 4,
   "metadata": {
    "tags": []
   },
   "outputs": [
    {
     "output_type": "stream",
     "name": "stdout",
     "text": "[[10 20 30 40]]\n"
    }
   ],
   "source": [
    "arr=np.array([10,20,30,40])\n",
    "newarr=arr.reshape(1,4)\n",
    "print(newarr)"
   ]
  },
  {
   "cell_type": "code",
   "execution_count": 12,
   "metadata": {
    "tags": []
   },
   "outputs": [
    {
     "output_type": "stream",
     "name": "stdout",
     "text": "[[ 10  20  30  40  50]\n [ 60  70  80  90 100]]\n"
    }
   ],
   "source": [
    "arr=np.array([10,20,30,40,50,60,70,80,90,100])\n",
    "newarr=arr.reshape(-1,5)\n",
    "print (newarr)"
   ]
  },
  {
   "cell_type": "code",
   "execution_count": 35,
   "metadata": {
    "tags": []
   },
   "outputs": [
    {
     "output_type": "stream",
     "name": "stdout",
     "text": "[[ 1  2  3]\n [ 5  6  7]\n [ 9 10 11]\n [ 4  8 12]]\n"
    },
    {
     "output_type": "execute_result",
     "data": {
      "text/plain": "(4, 3)"
     },
     "metadata": {},
     "execution_count": 35
    }
   ],
   "source": [
    "arr=np.array([[1,2,3],[5,6,7],[9,10,11],[4,8,12]])\n",
    "arr2=np.copy(arr)\n",
    "print(arr2)\n",
    "arr2.shape"
   ]
  },
  {
   "cell_type": "code",
   "execution_count": 36,
   "metadata": {
    "tags": []
   },
   "outputs": [
    {
     "output_type": "stream",
     "name": "stdout",
     "text": "[[ 2  4  6]\n [10 12 14]\n [18 20 22]\n [ 8 16 24]]\n"
    }
   ],
   "source": [
    "for i in range(0,4):\n",
    "    for j in range(0,3):\n",
    "        arr2[i][j]*=2\n",
    "print(arr2)\n"
   ]
  },
  {
   "cell_type": "code",
   "execution_count": 43,
   "metadata": {
    "tags": []
   },
   "outputs": [
    {
     "output_type": "stream",
     "name": "stdout",
     "text": "[ 1  2  3  5  6  7  9 10 11  4  8 12]\n"
    }
   ],
   "source": [
    "arr=arr.flatten()\n",
    "print(arr)"
   ]
  },
  {
   "cell_type": "code",
   "execution_count": 39,
   "metadata": {
    "tags": []
   },
   "outputs": [
    {
     "output_type": "stream",
     "name": "stdout",
     "text": "[[ 2  4  6 10 12 14]\n [18 20 22  8 16 24]]\n"
    }
   ],
   "source": [
    "arr2=arr2.reshape(2,-1)\n",
    "print (arr2)"
   ]
  }
 ]
}